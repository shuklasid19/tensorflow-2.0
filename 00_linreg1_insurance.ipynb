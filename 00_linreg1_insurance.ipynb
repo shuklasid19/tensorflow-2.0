{
  "nbformat": 4,
  "nbformat_minor": 0,
  "metadata": {
    "colab": {
      "name": "00_linreg1_insurance",
      "provenance": [],
      "authorship_tag": "ABX9TyP9FBlYEoFxDG7Va+KwYetB",
      "include_colab_link": true
    },
    "kernelspec": {
      "name": "python3",
      "display_name": "Python 3"
    },
    "language_info": {
      "name": "python"
    }
  },
  "cells": [
    {
      "cell_type": "markdown",
      "metadata": {
        "id": "view-in-github",
        "colab_type": "text"
      },
      "source": [
        "<a href=\"https://colab.research.google.com/github/shuklasid19/tensorflow-2.0/blob/main/00_linreg1_insurance.ipynb\" target=\"_parent\"><img src=\"https://colab.research.google.com/assets/colab-badge.svg\" alt=\"Open In Colab\"/></a>"
      ]
    },
    {
      "cell_type": "code",
      "metadata": {
        "id": "CalH4PvKPzui"
      },
      "source": [
        "#import required libaries\n",
        "import pandas as pd\n",
        "import numpy as np\n",
        "import matplotlib.pyplot as plt\n",
        "import seaborn as sns\n",
        "import os"
      ],
      "execution_count": 82,
      "outputs": []
    },
    {
      "cell_type": "code",
      "metadata": {
        "id": "KuS2bSLOQRZ9"
      },
      "source": [
        "insurance = pd.read_csv('https://gist.githubusercontent.com/meperezcuello/82a9f1c1c473d6585e750ad2e3c05a41/raw/d42d226d0dd64e7f5395a0eec1b9190a10edbc03/Medical_Cost.csv')\n"
      ],
      "execution_count": 83,
      "outputs": []
    },
    {
      "cell_type": "code",
      "metadata": {
        "colab": {
          "base_uri": "https://localhost:8080/",
          "height": 419
        },
        "id": "FsFsI74tQ97v",
        "outputId": "f613b917-1028-444a-b999-1d5a38848abe"
      },
      "source": [
        "insurance"
      ],
      "execution_count": 84,
      "outputs": [
        {
          "output_type": "execute_result",
          "data": {
            "text/html": [
              "<div>\n",
              "<style scoped>\n",
              "    .dataframe tbody tr th:only-of-type {\n",
              "        vertical-align: middle;\n",
              "    }\n",
              "\n",
              "    .dataframe tbody tr th {\n",
              "        vertical-align: top;\n",
              "    }\n",
              "\n",
              "    .dataframe thead th {\n",
              "        text-align: right;\n",
              "    }\n",
              "</style>\n",
              "<table border=\"1\" class=\"dataframe\">\n",
              "  <thead>\n",
              "    <tr style=\"text-align: right;\">\n",
              "      <th></th>\n",
              "      <th>age</th>\n",
              "      <th>sex</th>\n",
              "      <th>bmi</th>\n",
              "      <th>children</th>\n",
              "      <th>smoker</th>\n",
              "      <th>region</th>\n",
              "      <th>charges</th>\n",
              "    </tr>\n",
              "  </thead>\n",
              "  <tbody>\n",
              "    <tr>\n",
              "      <th>0</th>\n",
              "      <td>19</td>\n",
              "      <td>female</td>\n",
              "      <td>27.900</td>\n",
              "      <td>0</td>\n",
              "      <td>yes</td>\n",
              "      <td>southwest</td>\n",
              "      <td>16884.92400</td>\n",
              "    </tr>\n",
              "    <tr>\n",
              "      <th>1</th>\n",
              "      <td>18</td>\n",
              "      <td>male</td>\n",
              "      <td>33.770</td>\n",
              "      <td>1</td>\n",
              "      <td>no</td>\n",
              "      <td>southeast</td>\n",
              "      <td>1725.55230</td>\n",
              "    </tr>\n",
              "    <tr>\n",
              "      <th>2</th>\n",
              "      <td>28</td>\n",
              "      <td>male</td>\n",
              "      <td>33.000</td>\n",
              "      <td>3</td>\n",
              "      <td>no</td>\n",
              "      <td>southeast</td>\n",
              "      <td>4449.46200</td>\n",
              "    </tr>\n",
              "    <tr>\n",
              "      <th>3</th>\n",
              "      <td>33</td>\n",
              "      <td>male</td>\n",
              "      <td>22.705</td>\n",
              "      <td>0</td>\n",
              "      <td>no</td>\n",
              "      <td>northwest</td>\n",
              "      <td>21984.47061</td>\n",
              "    </tr>\n",
              "    <tr>\n",
              "      <th>4</th>\n",
              "      <td>32</td>\n",
              "      <td>male</td>\n",
              "      <td>28.880</td>\n",
              "      <td>0</td>\n",
              "      <td>no</td>\n",
              "      <td>northwest</td>\n",
              "      <td>3866.85520</td>\n",
              "    </tr>\n",
              "    <tr>\n",
              "      <th>...</th>\n",
              "      <td>...</td>\n",
              "      <td>...</td>\n",
              "      <td>...</td>\n",
              "      <td>...</td>\n",
              "      <td>...</td>\n",
              "      <td>...</td>\n",
              "      <td>...</td>\n",
              "    </tr>\n",
              "    <tr>\n",
              "      <th>1333</th>\n",
              "      <td>50</td>\n",
              "      <td>male</td>\n",
              "      <td>30.970</td>\n",
              "      <td>3</td>\n",
              "      <td>no</td>\n",
              "      <td>northwest</td>\n",
              "      <td>10600.54830</td>\n",
              "    </tr>\n",
              "    <tr>\n",
              "      <th>1334</th>\n",
              "      <td>18</td>\n",
              "      <td>female</td>\n",
              "      <td>31.920</td>\n",
              "      <td>0</td>\n",
              "      <td>no</td>\n",
              "      <td>northeast</td>\n",
              "      <td>2205.98080</td>\n",
              "    </tr>\n",
              "    <tr>\n",
              "      <th>1335</th>\n",
              "      <td>18</td>\n",
              "      <td>female</td>\n",
              "      <td>36.850</td>\n",
              "      <td>0</td>\n",
              "      <td>no</td>\n",
              "      <td>southeast</td>\n",
              "      <td>1629.83350</td>\n",
              "    </tr>\n",
              "    <tr>\n",
              "      <th>1336</th>\n",
              "      <td>21</td>\n",
              "      <td>female</td>\n",
              "      <td>25.800</td>\n",
              "      <td>0</td>\n",
              "      <td>no</td>\n",
              "      <td>southwest</td>\n",
              "      <td>2007.94500</td>\n",
              "    </tr>\n",
              "    <tr>\n",
              "      <th>1337</th>\n",
              "      <td>61</td>\n",
              "      <td>female</td>\n",
              "      <td>29.070</td>\n",
              "      <td>0</td>\n",
              "      <td>yes</td>\n",
              "      <td>northwest</td>\n",
              "      <td>29141.36030</td>\n",
              "    </tr>\n",
              "  </tbody>\n",
              "</table>\n",
              "<p>1338 rows × 7 columns</p>\n",
              "</div>"
            ],
            "text/plain": [
              "      age     sex     bmi  children smoker     region      charges\n",
              "0      19  female  27.900         0    yes  southwest  16884.92400\n",
              "1      18    male  33.770         1     no  southeast   1725.55230\n",
              "2      28    male  33.000         3     no  southeast   4449.46200\n",
              "3      33    male  22.705         0     no  northwest  21984.47061\n",
              "4      32    male  28.880         0     no  northwest   3866.85520\n",
              "...   ...     ...     ...       ...    ...        ...          ...\n",
              "1333   50    male  30.970         3     no  northwest  10600.54830\n",
              "1334   18  female  31.920         0     no  northeast   2205.98080\n",
              "1335   18  female  36.850         0     no  southeast   1629.83350\n",
              "1336   21  female  25.800         0     no  southwest   2007.94500\n",
              "1337   61  female  29.070         0    yes  northwest  29141.36030\n",
              "\n",
              "[1338 rows x 7 columns]"
            ]
          },
          "metadata": {
            "tags": []
          },
          "execution_count": 84
        }
      ]
    },
    {
      "cell_type": "code",
      "metadata": {
        "colab": {
          "base_uri": "https://localhost:8080/",
          "height": 204
        },
        "id": "UNEu_bMuRElJ",
        "outputId": "b14dba11-9be6-4f00-88ad-339d30fcfc64"
      },
      "source": [
        "insurance.head()"
      ],
      "execution_count": 85,
      "outputs": [
        {
          "output_type": "execute_result",
          "data": {
            "text/html": [
              "<div>\n",
              "<style scoped>\n",
              "    .dataframe tbody tr th:only-of-type {\n",
              "        vertical-align: middle;\n",
              "    }\n",
              "\n",
              "    .dataframe tbody tr th {\n",
              "        vertical-align: top;\n",
              "    }\n",
              "\n",
              "    .dataframe thead th {\n",
              "        text-align: right;\n",
              "    }\n",
              "</style>\n",
              "<table border=\"1\" class=\"dataframe\">\n",
              "  <thead>\n",
              "    <tr style=\"text-align: right;\">\n",
              "      <th></th>\n",
              "      <th>age</th>\n",
              "      <th>sex</th>\n",
              "      <th>bmi</th>\n",
              "      <th>children</th>\n",
              "      <th>smoker</th>\n",
              "      <th>region</th>\n",
              "      <th>charges</th>\n",
              "    </tr>\n",
              "  </thead>\n",
              "  <tbody>\n",
              "    <tr>\n",
              "      <th>0</th>\n",
              "      <td>19</td>\n",
              "      <td>female</td>\n",
              "      <td>27.900</td>\n",
              "      <td>0</td>\n",
              "      <td>yes</td>\n",
              "      <td>southwest</td>\n",
              "      <td>16884.92400</td>\n",
              "    </tr>\n",
              "    <tr>\n",
              "      <th>1</th>\n",
              "      <td>18</td>\n",
              "      <td>male</td>\n",
              "      <td>33.770</td>\n",
              "      <td>1</td>\n",
              "      <td>no</td>\n",
              "      <td>southeast</td>\n",
              "      <td>1725.55230</td>\n",
              "    </tr>\n",
              "    <tr>\n",
              "      <th>2</th>\n",
              "      <td>28</td>\n",
              "      <td>male</td>\n",
              "      <td>33.000</td>\n",
              "      <td>3</td>\n",
              "      <td>no</td>\n",
              "      <td>southeast</td>\n",
              "      <td>4449.46200</td>\n",
              "    </tr>\n",
              "    <tr>\n",
              "      <th>3</th>\n",
              "      <td>33</td>\n",
              "      <td>male</td>\n",
              "      <td>22.705</td>\n",
              "      <td>0</td>\n",
              "      <td>no</td>\n",
              "      <td>northwest</td>\n",
              "      <td>21984.47061</td>\n",
              "    </tr>\n",
              "    <tr>\n",
              "      <th>4</th>\n",
              "      <td>32</td>\n",
              "      <td>male</td>\n",
              "      <td>28.880</td>\n",
              "      <td>0</td>\n",
              "      <td>no</td>\n",
              "      <td>northwest</td>\n",
              "      <td>3866.85520</td>\n",
              "    </tr>\n",
              "  </tbody>\n",
              "</table>\n",
              "</div>"
            ],
            "text/plain": [
              "   age     sex     bmi  children smoker     region      charges\n",
              "0   19  female  27.900         0    yes  southwest  16884.92400\n",
              "1   18    male  33.770         1     no  southeast   1725.55230\n",
              "2   28    male  33.000         3     no  southeast   4449.46200\n",
              "3   33    male  22.705         0     no  northwest  21984.47061\n",
              "4   32    male  28.880         0     no  northwest   3866.85520"
            ]
          },
          "metadata": {
            "tags": []
          },
          "execution_count": 85
        }
      ]
    },
    {
      "cell_type": "code",
      "metadata": {
        "colab": {
          "base_uri": "https://localhost:8080/"
        },
        "id": "70flUUYdRHh_",
        "outputId": "8f59c4e1-393a-4a7e-9f63-879781f3d2d4"
      },
      "source": [
        "insurance.columns"
      ],
      "execution_count": 86,
      "outputs": [
        {
          "output_type": "execute_result",
          "data": {
            "text/plain": [
              "Index(['age', 'sex', 'bmi', 'children', 'smoker', 'region', 'charges'], dtype='object')"
            ]
          },
          "metadata": {
            "tags": []
          },
          "execution_count": 86
        }
      ]
    },
    {
      "cell_type": "code",
      "metadata": {
        "id": "ioDSuAZLRoOU"
      },
      "source": [
        "insurance_one_hot = pd.get_dummies(insurance)"
      ],
      "execution_count": 87,
      "outputs": []
    },
    {
      "cell_type": "code",
      "metadata": {
        "colab": {
          "base_uri": "https://localhost:8080/",
          "height": 224
        },
        "id": "8e8qr4-VTFEG",
        "outputId": "e9d87291-f11c-4321-bf49-aba4f0c5c74a"
      },
      "source": [
        "insurance_one_hot.head()"
      ],
      "execution_count": 88,
      "outputs": [
        {
          "output_type": "execute_result",
          "data": {
            "text/html": [
              "<div>\n",
              "<style scoped>\n",
              "    .dataframe tbody tr th:only-of-type {\n",
              "        vertical-align: middle;\n",
              "    }\n",
              "\n",
              "    .dataframe tbody tr th {\n",
              "        vertical-align: top;\n",
              "    }\n",
              "\n",
              "    .dataframe thead th {\n",
              "        text-align: right;\n",
              "    }\n",
              "</style>\n",
              "<table border=\"1\" class=\"dataframe\">\n",
              "  <thead>\n",
              "    <tr style=\"text-align: right;\">\n",
              "      <th></th>\n",
              "      <th>age</th>\n",
              "      <th>bmi</th>\n",
              "      <th>children</th>\n",
              "      <th>charges</th>\n",
              "      <th>sex_female</th>\n",
              "      <th>sex_male</th>\n",
              "      <th>smoker_no</th>\n",
              "      <th>smoker_yes</th>\n",
              "      <th>region_northeast</th>\n",
              "      <th>region_northwest</th>\n",
              "      <th>region_southeast</th>\n",
              "      <th>region_southwest</th>\n",
              "    </tr>\n",
              "  </thead>\n",
              "  <tbody>\n",
              "    <tr>\n",
              "      <th>0</th>\n",
              "      <td>19</td>\n",
              "      <td>27.900</td>\n",
              "      <td>0</td>\n",
              "      <td>16884.92400</td>\n",
              "      <td>1</td>\n",
              "      <td>0</td>\n",
              "      <td>0</td>\n",
              "      <td>1</td>\n",
              "      <td>0</td>\n",
              "      <td>0</td>\n",
              "      <td>0</td>\n",
              "      <td>1</td>\n",
              "    </tr>\n",
              "    <tr>\n",
              "      <th>1</th>\n",
              "      <td>18</td>\n",
              "      <td>33.770</td>\n",
              "      <td>1</td>\n",
              "      <td>1725.55230</td>\n",
              "      <td>0</td>\n",
              "      <td>1</td>\n",
              "      <td>1</td>\n",
              "      <td>0</td>\n",
              "      <td>0</td>\n",
              "      <td>0</td>\n",
              "      <td>1</td>\n",
              "      <td>0</td>\n",
              "    </tr>\n",
              "    <tr>\n",
              "      <th>2</th>\n",
              "      <td>28</td>\n",
              "      <td>33.000</td>\n",
              "      <td>3</td>\n",
              "      <td>4449.46200</td>\n",
              "      <td>0</td>\n",
              "      <td>1</td>\n",
              "      <td>1</td>\n",
              "      <td>0</td>\n",
              "      <td>0</td>\n",
              "      <td>0</td>\n",
              "      <td>1</td>\n",
              "      <td>0</td>\n",
              "    </tr>\n",
              "    <tr>\n",
              "      <th>3</th>\n",
              "      <td>33</td>\n",
              "      <td>22.705</td>\n",
              "      <td>0</td>\n",
              "      <td>21984.47061</td>\n",
              "      <td>0</td>\n",
              "      <td>1</td>\n",
              "      <td>1</td>\n",
              "      <td>0</td>\n",
              "      <td>0</td>\n",
              "      <td>1</td>\n",
              "      <td>0</td>\n",
              "      <td>0</td>\n",
              "    </tr>\n",
              "    <tr>\n",
              "      <th>4</th>\n",
              "      <td>32</td>\n",
              "      <td>28.880</td>\n",
              "      <td>0</td>\n",
              "      <td>3866.85520</td>\n",
              "      <td>0</td>\n",
              "      <td>1</td>\n",
              "      <td>1</td>\n",
              "      <td>0</td>\n",
              "      <td>0</td>\n",
              "      <td>1</td>\n",
              "      <td>0</td>\n",
              "      <td>0</td>\n",
              "    </tr>\n",
              "  </tbody>\n",
              "</table>\n",
              "</div>"
            ],
            "text/plain": [
              "   age     bmi  children  ...  region_northwest  region_southeast  region_southwest\n",
              "0   19  27.900         0  ...                 0                 0                 1\n",
              "1   18  33.770         1  ...                 0                 1                 0\n",
              "2   28  33.000         3  ...                 0                 1                 0\n",
              "3   33  22.705         0  ...                 1                 0                 0\n",
              "4   32  28.880         0  ...                 1                 0                 0\n",
              "\n",
              "[5 rows x 12 columns]"
            ]
          },
          "metadata": {
            "tags": []
          },
          "execution_count": 88
        }
      ]
    },
    {
      "cell_type": "code",
      "metadata": {
        "colab": {
          "base_uri": "https://localhost:8080/",
          "height": 375
        },
        "id": "qPdcbkwyRJv7",
        "outputId": "74f34520-af99-4649-e12a-9abd91da51ac"
      },
      "source": [
        "plt.style.use('fivethirtyeight')\n",
        "sns.distplot(insurance['age'])"
      ],
      "execution_count": 89,
      "outputs": [
        {
          "output_type": "stream",
          "text": [
            "/usr/local/lib/python3.7/dist-packages/seaborn/distributions.py:2557: FutureWarning: `distplot` is a deprecated function and will be removed in a future version. Please adapt your code to use either `displot` (a figure-level function with similar flexibility) or `histplot` (an axes-level function for histograms).\n",
            "  warnings.warn(msg, FutureWarning)\n"
          ],
          "name": "stderr"
        },
        {
          "output_type": "execute_result",
          "data": {
            "text/plain": [
              "<matplotlib.axes._subplots.AxesSubplot at 0x7fe4e0b94110>"
            ]
          },
          "metadata": {
            "tags": []
          },
          "execution_count": 89
        },
        {
          "output_type": "display_data",
          "data": {
            "image/png": "[encoded data removed]",
            "text/plain": [
              "<Figure size 432x288 with 1 Axes>"
            ]
          },
          "metadata": {
            "tags": []
          }
        }
      ]
    },
    {
      "cell_type": "code",
      "metadata": {
        "id": "lJEfSkJvTKvm"
      },
      "source": [
        "#create x and y values (features and labels)\n",
        "x = insurance_one_hot.drop('charges', axis=1,)\n",
        "y = insurance_one_hot['charges']"
      ],
      "execution_count": 90,
      "outputs": []
    },
    {
      "cell_type": "code",
      "metadata": {
        "colab": {
          "base_uri": "https://localhost:8080/",
          "height": 439
        },
        "id": "9JvngWONRT_W",
        "outputId": "df81397e-8f21-496d-bc5e-b0f880740244"
      },
      "source": [
        "x"
      ],
      "execution_count": 91,
      "outputs": [
        {
          "output_type": "execute_result",
          "data": {
            "text/html": [
              "<div>\n",
              "<style scoped>\n",
              "    .dataframe tbody tr th:only-of-type {\n",
              "        vertical-align: middle;\n",
              "    }\n",
              "\n",
              "    .dataframe tbody tr th {\n",
              "        vertical-align: top;\n",
              "    }\n",
              "\n",
              "    .dataframe thead th {\n",
              "        text-align: right;\n",
              "    }\n",
              "</style>\n",
              "<table border=\"1\" class=\"dataframe\">\n",
              "  <thead>\n",
              "    <tr style=\"text-align: right;\">\n",
              "      <th></th>\n",
              "      <th>age</th>\n",
              "      <th>bmi</th>\n",
              "      <th>children</th>\n",
              "      <th>sex_female</th>\n",
              "      <th>sex_male</th>\n",
              "      <th>smoker_no</th>\n",
              "      <th>smoker_yes</th>\n",
              "      <th>region_northeast</th>\n",
              "      <th>region_northwest</th>\n",
              "      <th>region_southeast</th>\n",
              "      <th>region_southwest</th>\n",
              "    </tr>\n",
              "  </thead>\n",
              "  <tbody>\n",
              "    <tr>\n",
              "      <th>0</th>\n",
              "      <td>19</td>\n",
              "      <td>27.900</td>\n",
              "      <td>0</td>\n",
              "      <td>1</td>\n",
              "      <td>0</td>\n",
              "      <td>0</td>\n",
              "      <td>1</td>\n",
              "      <td>0</td>\n",
              "      <td>0</td>\n",
              "      <td>0</td>\n",
              "      <td>1</td>\n",
              "    </tr>\n",
              "    <tr>\n",
              "      <th>1</th>\n",
              "      <td>18</td>\n",
              "      <td>33.770</td>\n",
              "      <td>1</td>\n",
              "      <td>0</td>\n",
              "      <td>1</td>\n",
              "      <td>1</td>\n",
              "      <td>0</td>\n",
              "      <td>0</td>\n",
              "      <td>0</td>\n",
              "      <td>1</td>\n",
              "      <td>0</td>\n",
              "    </tr>\n",
              "    <tr>\n",
              "      <th>2</th>\n",
              "      <td>28</td>\n",
              "      <td>33.000</td>\n",
              "      <td>3</td>\n",
              "      <td>0</td>\n",
              "      <td>1</td>\n",
              "      <td>1</td>\n",
              "      <td>0</td>\n",
              "      <td>0</td>\n",
              "      <td>0</td>\n",
              "      <td>1</td>\n",
              "      <td>0</td>\n",
              "    </tr>\n",
              "    <tr>\n",
              "      <th>3</th>\n",
              "      <td>33</td>\n",
              "      <td>22.705</td>\n",
              "      <td>0</td>\n",
              "      <td>0</td>\n",
              "      <td>1</td>\n",
              "      <td>1</td>\n",
              "      <td>0</td>\n",
              "      <td>0</td>\n",
              "      <td>1</td>\n",
              "      <td>0</td>\n",
              "      <td>0</td>\n",
              "    </tr>\n",
              "    <tr>\n",
              "      <th>4</th>\n",
              "      <td>32</td>\n",
              "      <td>28.880</td>\n",
              "      <td>0</td>\n",
              "      <td>0</td>\n",
              "      <td>1</td>\n",
              "      <td>1</td>\n",
              "      <td>0</td>\n",
              "      <td>0</td>\n",
              "      <td>1</td>\n",
              "      <td>0</td>\n",
              "      <td>0</td>\n",
              "    </tr>\n",
              "    <tr>\n",
              "      <th>...</th>\n",
              "      <td>...</td>\n",
              "      <td>...</td>\n",
              "      <td>...</td>\n",
              "      <td>...</td>\n",
              "      <td>...</td>\n",
              "      <td>...</td>\n",
              "      <td>...</td>\n",
              "      <td>...</td>\n",
              "      <td>...</td>\n",
              "      <td>...</td>\n",
              "      <td>...</td>\n",
              "    </tr>\n",
              "    <tr>\n",
              "      <th>1333</th>\n",
              "      <td>50</td>\n",
              "      <td>30.970</td>\n",
              "      <td>3</td>\n",
              "      <td>0</td>\n",
              "      <td>1</td>\n",
              "      <td>1</td>\n",
              "      <td>0</td>\n",
              "      <td>0</td>\n",
              "      <td>1</td>\n",
              "      <td>0</td>\n",
              "      <td>0</td>\n",
              "    </tr>\n",
              "    <tr>\n",
              "      <th>1334</th>\n",
              "      <td>18</td>\n",
              "      <td>31.920</td>\n",
              "      <td>0</td>\n",
              "      <td>1</td>\n",
              "      <td>0</td>\n",
              "      <td>1</td>\n",
              "      <td>0</td>\n",
              "      <td>1</td>\n",
              "      <td>0</td>\n",
              "      <td>0</td>\n",
              "      <td>0</td>\n",
              "    </tr>\n",
              "    <tr>\n",
              "      <th>1335</th>\n",
              "      <td>18</td>\n",
              "      <td>36.850</td>\n",
              "      <td>0</td>\n",
              "      <td>1</td>\n",
              "      <td>0</td>\n",
              "      <td>1</td>\n",
              "      <td>0</td>\n",
              "      <td>0</td>\n",
              "      <td>0</td>\n",
              "      <td>1</td>\n",
              "      <td>0</td>\n",
              "    </tr>\n",
              "    <tr>\n",
              "      <th>1336</th>\n",
              "      <td>21</td>\n",
              "      <td>25.800</td>\n",
              "      <td>0</td>\n",
              "      <td>1</td>\n",
              "      <td>0</td>\n",
              "      <td>1</td>\n",
              "      <td>0</td>\n",
              "      <td>0</td>\n",
              "      <td>0</td>\n",
              "      <td>0</td>\n",
              "      <td>1</td>\n",
              "    </tr>\n",
              "    <tr>\n",
              "      <th>1337</th>\n",
              "      <td>61</td>\n",
              "      <td>29.070</td>\n",
              "      <td>0</td>\n",
              "      <td>1</td>\n",
              "      <td>0</td>\n",
              "      <td>0</td>\n",
              "      <td>1</td>\n",
              "      <td>0</td>\n",
              "      <td>1</td>\n",
              "      <td>0</td>\n",
              "      <td>0</td>\n",
              "    </tr>\n",
              "  </tbody>\n",
              "</table>\n",
              "<p>1338 rows × 11 columns</p>\n",
              "</div>"
            ],
            "text/plain": [
              "      age     bmi  ...  region_southeast  region_southwest\n",
              "0      19  27.900  ...                 0                 1\n",
              "1      18  33.770  ...                 1                 0\n",
              "2      28  33.000  ...                 1                 0\n",
              "3      33  22.705  ...                 0                 0\n",
              "4      32  28.880  ...                 0                 0\n",
              "...   ...     ...  ...               ...               ...\n",
              "1333   50  30.970  ...                 0                 0\n",
              "1334   18  31.920  ...                 0                 0\n",
              "1335   18  36.850  ...                 1                 0\n",
              "1336   21  25.800  ...                 0                 1\n",
              "1337   61  29.070  ...                 0                 0\n",
              "\n",
              "[1338 rows x 11 columns]"
            ]
          },
          "metadata": {
            "tags": []
          },
          "execution_count": 91
        }
      ]
    },
    {
      "cell_type": "code",
      "metadata": {
        "colab": {
          "base_uri": "https://localhost:8080/"
        },
        "id": "FO90IwckTgJ8",
        "outputId": "6e2467e5-3201-42a3-89d5-8ef02206cd63"
      },
      "source": [
        "y"
      ],
      "execution_count": 92,
      "outputs": [
        {
          "output_type": "execute_result",
          "data": {
            "text/plain": [
              "0       16884.92400\n",
              "1        1725.55230\n",
              "2        4449.46200\n",
              "3       21984.47061\n",
              "4        3866.85520\n",
              "           ...     \n",
              "1333    10600.54830\n",
              "1334     2205.98080\n",
              "1335     1629.83350\n",
              "1336     2007.94500\n",
              "1337    29141.36030\n",
              "Name: charges, Length: 1338, dtype: float64"
            ]
          },
          "metadata": {
            "tags": []
          },
          "execution_count": 92
        }
      ]
    },
    {
      "cell_type": "code",
      "metadata": {
        "colab": {
          "base_uri": "https://localhost:8080/",
          "height": 224
        },
        "id": "_gcIGQd7TgcY",
        "outputId": "e8e85b61-7bad-4872-cb92-544fdd0466a0"
      },
      "source": [
        "x.head()"
      ],
      "execution_count": 93,
      "outputs": [
        {
          "output_type": "execute_result",
          "data": {
            "text/html": [
              "<div>\n",
              "<style scoped>\n",
              "    .dataframe tbody tr th:only-of-type {\n",
              "        vertical-align: middle;\n",
              "    }\n",
              "\n",
              "    .dataframe tbody tr th {\n",
              "        vertical-align: top;\n",
              "    }\n",
              "\n",
              "    .dataframe thead th {\n",
              "        text-align: right;\n",
              "    }\n",
              "</style>\n",
              "<table border=\"1\" class=\"dataframe\">\n",
              "  <thead>\n",
              "    <tr style=\"text-align: right;\">\n",
              "      <th></th>\n",
              "      <th>age</th>\n",
              "      <th>bmi</th>\n",
              "      <th>children</th>\n",
              "      <th>sex_female</th>\n",
              "      <th>sex_male</th>\n",
              "      <th>smoker_no</th>\n",
              "      <th>smoker_yes</th>\n",
              "      <th>region_northeast</th>\n",
              "      <th>region_northwest</th>\n",
              "      <th>region_southeast</th>\n",
              "      <th>region_southwest</th>\n",
              "    </tr>\n",
              "  </thead>\n",
              "  <tbody>\n",
              "    <tr>\n",
              "      <th>0</th>\n",
              "      <td>19</td>\n",
              "      <td>27.900</td>\n",
              "      <td>0</td>\n",
              "      <td>1</td>\n",
              "      <td>0</td>\n",
              "      <td>0</td>\n",
              "      <td>1</td>\n",
              "      <td>0</td>\n",
              "      <td>0</td>\n",
              "      <td>0</td>\n",
              "      <td>1</td>\n",
              "    </tr>\n",
              "    <tr>\n",
              "      <th>1</th>\n",
              "      <td>18</td>\n",
              "      <td>33.770</td>\n",
              "      <td>1</td>\n",
              "      <td>0</td>\n",
              "      <td>1</td>\n",
              "      <td>1</td>\n",
              "      <td>0</td>\n",
              "      <td>0</td>\n",
              "      <td>0</td>\n",
              "      <td>1</td>\n",
              "      <td>0</td>\n",
              "    </tr>\n",
              "    <tr>\n",
              "      <th>2</th>\n",
              "      <td>28</td>\n",
              "      <td>33.000</td>\n",
              "      <td>3</td>\n",
              "      <td>0</td>\n",
              "      <td>1</td>\n",
              "      <td>1</td>\n",
              "      <td>0</td>\n",
              "      <td>0</td>\n",
              "      <td>0</td>\n",
              "      <td>1</td>\n",
              "      <td>0</td>\n",
              "    </tr>\n",
              "    <tr>\n",
              "      <th>3</th>\n",
              "      <td>33</td>\n",
              "      <td>22.705</td>\n",
              "      <td>0</td>\n",
              "      <td>0</td>\n",
              "      <td>1</td>\n",
              "      <td>1</td>\n",
              "      <td>0</td>\n",
              "      <td>0</td>\n",
              "      <td>1</td>\n",
              "      <td>0</td>\n",
              "      <td>0</td>\n",
              "    </tr>\n",
              "    <tr>\n",
              "      <th>4</th>\n",
              "      <td>32</td>\n",
              "      <td>28.880</td>\n",
              "      <td>0</td>\n",
              "      <td>0</td>\n",
              "      <td>1</td>\n",
              "      <td>1</td>\n",
              "      <td>0</td>\n",
              "      <td>0</td>\n",
              "      <td>1</td>\n",
              "      <td>0</td>\n",
              "      <td>0</td>\n",
              "    </tr>\n",
              "  </tbody>\n",
              "</table>\n",
              "</div>"
            ],
            "text/plain": [
              "   age     bmi  children  ...  region_northwest  region_southeast  region_southwest\n",
              "0   19  27.900         0  ...                 0                 0                 1\n",
              "1   18  33.770         1  ...                 0                 1                 0\n",
              "2   28  33.000         3  ...                 0                 1                 0\n",
              "3   33  22.705         0  ...                 1                 0                 0\n",
              "4   32  28.880         0  ...                 1                 0                 0\n",
              "\n",
              "[5 rows x 11 columns]"
            ]
          },
          "metadata": {
            "tags": []
          },
          "execution_count": 93
        }
      ]
    },
    {
      "cell_type": "code",
      "metadata": {
        "colab": {
          "base_uri": "https://localhost:8080/",
          "height": 389
        },
        "id": "RJzvcixoTjme",
        "outputId": "d5722438-0f31-4183-ce2c-3b452949697d"
      },
      "source": [
        "sns.distplot(insurance_one_hot['charges'])"
      ],
      "execution_count": 94,
      "outputs": [
        {
          "output_type": "stream",
          "text": [
            "/usr/local/lib/python3.7/dist-packages/seaborn/distributions.py:2557: FutureWarning: `distplot` is a deprecated function and will be removed in a future version. Please adapt your code to use either `displot` (a figure-level function with similar flexibility) or `histplot` (an axes-level function for histograms).\n",
            "  warnings.warn(msg, FutureWarning)\n"
          ],
          "name": "stderr"
        },
        {
          "output_type": "execute_result",
          "data": {
            "text/plain": [
              "<matplotlib.axes._subplots.AxesSubplot at 0x7fe4e0afbd90>"
            ]
          },
          "metadata": {
            "tags": []
          },
          "execution_count": 94
        },
        {
          "output_type": "display_data",
          "data": {
            "image/png": "[encoded data removed]",
            "text/plain": [
              "<Figure size 432x288 with 1 Axes>"
            ]
          },
          "metadata": {
            "tags": []
          }
        }
      ]
    },
    {
      "cell_type": "code",
      "metadata": {
        "id": "V5gZmZjgTnQn"
      },
      "source": [
        "from sklearn.model_selection import train_test_split\n",
        "x_train , x_test, y_train , y_test = train_test_split(x, y, test_size=0.33,\n",
        "                                                      random_state=101)"
      ],
      "execution_count": 95,
      "outputs": []
    },
    {
      "cell_type": "code",
      "metadata": {
        "colab": {
          "base_uri": "https://localhost:8080/"
        },
        "id": "hPAK61XsT-pj",
        "outputId": "cf4eb9bd-851f-46af-93b1-19a6c5997e80"
      },
      "source": [
        "x_train.shape"
      ],
      "execution_count": 96,
      "outputs": [
        {
          "output_type": "execute_result",
          "data": {
            "text/plain": [
              "(896, 11)"
            ]
          },
          "metadata": {
            "tags": []
          },
          "execution_count": 96
        }
      ]
    },
    {
      "cell_type": "code",
      "metadata": {
        "colab": {
          "base_uri": "https://localhost:8080/"
        },
        "id": "pcpgDnwMUB8R",
        "outputId": "b4545f54-af0c-41a8-8f89-75d894ab9fb4"
      },
      "source": [
        "x_test.shape"
      ],
      "execution_count": 97,
      "outputs": [
        {
          "output_type": "execute_result",
          "data": {
            "text/plain": [
              "(442, 11)"
            ]
          },
          "metadata": {
            "tags": []
          },
          "execution_count": 97
        }
      ]
    },
    {
      "cell_type": "code",
      "metadata": {
        "colab": {
          "base_uri": "https://localhost:8080/"
        },
        "id": "SVMABXGbUCy7",
        "outputId": "7a9feaf3-4e70-4fb9-ebd6-2f1c478f8f22"
      },
      "source": [
        "y_train.shape"
      ],
      "execution_count": 98,
      "outputs": [
        {
          "output_type": "execute_result",
          "data": {
            "text/plain": [
              "(896,)"
            ]
          },
          "metadata": {
            "tags": []
          },
          "execution_count": 98
        }
      ]
    },
    {
      "cell_type": "code",
      "metadata": {
        "colab": {
          "base_uri": "https://localhost:8080/"
        },
        "id": "z_KXiO0rUEEM",
        "outputId": "bc09153c-6572-4cfe-fc25-b4ada7712e35"
      },
      "source": [
        "y_test.shape"
      ],
      "execution_count": 99,
      "outputs": [
        {
          "output_type": "execute_result",
          "data": {
            "text/plain": [
              "(442,)"
            ]
          },
          "metadata": {
            "tags": []
          },
          "execution_count": 99
        }
      ]
    },
    {
      "cell_type": "code",
      "metadata": {
        "id": "XKBIfm-OVLJz"
      },
      "source": [
        "import tensorflow as tf"
      ],
      "execution_count": 100,
      "outputs": []
    },
    {
      "cell_type": "code",
      "metadata": {
        "colab": {
          "base_uri": "https://localhost:8080/"
        },
        "id": "aECvX_7nUFGs",
        "outputId": "6abcb7f1-2043-4166-a8d3-8561afa96088"
      },
      "source": [
        "tf.random.set_seed(101)\n",
        "\n",
        "#create  a model\n",
        "insurance_model = tf.keras.Sequential([\n",
        "                                       tf.keras.layers.Dense(10),\n",
        "                                       tf.keras.layers.Dense(1)\n",
        "])\n",
        "\n",
        "#2 compile the model\n",
        "insurance_model.compile(loss=tf.keras.losses.mae,\n",
        "                        optimizer = tf.keras.optimizers.SGD(),\n",
        "                        metrics= ['mae'])\n",
        "\n",
        "#3. Fit the model\n",
        "insurance_model.fit(x_train,  y_train, epochs=100)"
      ],
      "execution_count": 101,
      "outputs": [
        {
          "output_type": "stream",
          "text": [
            "Epoch 1/100\n",
            "28/28 [==============================] - 0s 1ms/step - loss: 8921.7305 - mae: 8921.7305\n",
            "Epoch 2/100\n",
            "28/28 [==============================] - 0s 1ms/step - loss: 7910.1748 - mae: 7910.1748\n",
            "Epoch 3/100\n",
            "28/28 [==============================] - 0s 1ms/step - loss: 7947.2070 - mae: 7947.2070\n",
            "Epoch 4/100\n",
            "28/28 [==============================] - 0s 1ms/step - loss: 7679.7432 - mae: 7679.7432\n",
            "Epoch 5/100\n",
            "28/28 [==============================] - 0s 1ms/step - loss: 7935.6724 - mae: 7935.6724\n",
            "Epoch 6/100\n",
            "28/28 [==============================] - 0s 1ms/step - loss: 7831.5317 - mae: 7831.5317\n",
            "Epoch 7/100\n",
            "28/28 [==============================] - 0s 1ms/step - loss: 7708.1284 - mae: 7708.1284\n",
            "Epoch 8/100\n",
            "28/28 [==============================] - 0s 1ms/step - loss: 7721.9780 - mae: 7721.9780\n",
            "Epoch 9/100\n",
            "28/28 [==============================] - 0s 2ms/step - loss: 7990.2451 - mae: 7990.2451\n",
            "Epoch 10/100\n",
            "28/28 [==============================] - 0s 1ms/step - loss: 7919.1362 - mae: 7919.1362\n",
            "Epoch 11/100\n",
            "28/28 [==============================] - 0s 1ms/step - loss: 8061.8896 - mae: 8061.8896\n",
            "Epoch 12/100\n",
            "28/28 [==============================] - 0s 1ms/step - loss: 7917.5640 - mae: 7917.5640\n",
            "Epoch 13/100\n",
            "28/28 [==============================] - 0s 1ms/step - loss: 7778.5435 - mae: 7778.5435\n",
            "Epoch 14/100\n",
            "28/28 [==============================] - 0s 2ms/step - loss: 7834.0625 - mae: 7834.0625\n",
            "Epoch 15/100\n",
            "28/28 [==============================] - 0s 1ms/step - loss: 7907.5635 - mae: 7907.5635\n",
            "Epoch 16/100\n",
            "28/28 [==============================] - 0s 1ms/step - loss: 8000.0889 - mae: 8000.0889\n",
            "Epoch 17/100\n",
            "28/28 [==============================] - 0s 1ms/step - loss: 7703.8242 - mae: 7703.8242\n",
            "Epoch 18/100\n",
            "28/28 [==============================] - 0s 1ms/step - loss: 7766.9878 - mae: 7766.9878\n",
            "Epoch 19/100\n",
            "28/28 [==============================] - 0s 1ms/step - loss: 7819.9390 - mae: 7819.9390\n",
            "Epoch 20/100\n",
            "28/28 [==============================] - 0s 1ms/step - loss: 7811.1567 - mae: 7811.1567\n",
            "Epoch 21/100\n",
            "28/28 [==============================] - 0s 1ms/step - loss: 7791.6812 - mae: 7791.6812\n",
            "Epoch 22/100\n",
            "28/28 [==============================] - 0s 1ms/step - loss: 7824.9482 - mae: 7824.9482\n",
            "Epoch 23/100\n",
            "28/28 [==============================] - 0s 2ms/step - loss: 7734.3462 - mae: 7734.3462\n",
            "Epoch 24/100\n",
            "28/28 [==============================] - 0s 1ms/step - loss: 7945.2222 - mae: 7945.2222\n",
            "Epoch 25/100\n",
            "28/28 [==============================] - 0s 1ms/step - loss: 7815.6172 - mae: 7815.6172\n",
            "Epoch 26/100\n",
            "28/28 [==============================] - 0s 1ms/step - loss: 7811.6719 - mae: 7811.6719\n",
            "Epoch 27/100\n",
            "28/28 [==============================] - 0s 1ms/step - loss: 7673.3550 - mae: 7673.3550\n",
            "Epoch 28/100\n",
            "28/28 [==============================] - 0s 1ms/step - loss: 7834.1812 - mae: 7834.1812\n",
            "Epoch 29/100\n",
            "28/28 [==============================] - 0s 1ms/step - loss: 7872.5195 - mae: 7872.5195\n",
            "Epoch 30/100\n",
            "28/28 [==============================] - 0s 1ms/step - loss: 7545.8398 - mae: 7545.8398\n",
            "Epoch 31/100\n",
            "28/28 [==============================] - 0s 1ms/step - loss: 7614.4502 - mae: 7614.4502\n",
            "Epoch 32/100\n",
            "28/28 [==============================] - 0s 1ms/step - loss: 7753.2231 - mae: 7753.2231\n",
            "Epoch 33/100\n",
            "28/28 [==============================] - 0s 1ms/step - loss: 7804.9546 - mae: 7804.9546\n",
            "Epoch 34/100\n",
            "28/28 [==============================] - 0s 1ms/step - loss: 7790.8760 - mae: 7790.8760\n",
            "Epoch 35/100\n",
            "28/28 [==============================] - 0s 1ms/step - loss: 7751.4053 - mae: 7751.4053\n",
            "Epoch 36/100\n",
            "28/28 [==============================] - 0s 1ms/step - loss: 7802.4263 - mae: 7802.4263\n",
            "Epoch 37/100\n",
            "28/28 [==============================] - 0s 1ms/step - loss: 7689.4536 - mae: 7689.4536\n",
            "Epoch 38/100\n",
            "28/28 [==============================] - 0s 1ms/step - loss: 7534.3335 - mae: 7534.3335\n",
            "Epoch 39/100\n",
            "28/28 [==============================] - 0s 1ms/step - loss: 7769.5469 - mae: 7769.5469\n",
            "Epoch 40/100\n",
            "28/28 [==============================] - 0s 2ms/step - loss: 7807.1353 - mae: 7807.1353\n",
            "Epoch 41/100\n",
            "28/28 [==============================] - 0s 1ms/step - loss: 7623.0259 - mae: 7623.0259\n",
            "Epoch 42/100\n",
            "28/28 [==============================] - 0s 1ms/step - loss: 7865.4502 - mae: 7865.4502\n",
            "Epoch 43/100\n",
            "28/28 [==============================] - 0s 1ms/step - loss: 7913.7261 - mae: 7913.7261\n",
            "Epoch 44/100\n",
            "28/28 [==============================] - 0s 1ms/step - loss: 7650.8569 - mae: 7650.8569\n",
            "Epoch 45/100\n",
            "28/28 [==============================] - 0s 1ms/step - loss: 7544.3389 - mae: 7544.3389\n",
            "Epoch 46/100\n",
            "28/28 [==============================] - 0s 1ms/step - loss: 7733.3594 - mae: 7733.3594\n",
            "Epoch 47/100\n",
            "28/28 [==============================] - 0s 1ms/step - loss: 7543.1885 - mae: 7543.1885\n",
            "Epoch 48/100\n",
            "28/28 [==============================] - 0s 1ms/step - loss: 7873.2539 - mae: 7873.2539\n",
            "Epoch 49/100\n",
            "28/28 [==============================] - 0s 1ms/step - loss: 7730.3828 - mae: 7730.3828\n",
            "Epoch 50/100\n",
            "28/28 [==============================] - 0s 1ms/step - loss: 7623.6636 - mae: 7623.6636\n",
            "Epoch 51/100\n",
            "28/28 [==============================] - 0s 1ms/step - loss: 7891.1104 - mae: 7891.1104\n",
            "Epoch 52/100\n",
            "28/28 [==============================] - 0s 1ms/step - loss: 7594.9727 - mae: 7594.9727\n",
            "Epoch 53/100\n",
            "28/28 [==============================] - 0s 1ms/step - loss: 7443.8921 - mae: 7443.8921\n",
            "Epoch 54/100\n",
            "28/28 [==============================] - 0s 2ms/step - loss: 7672.9585 - mae: 7672.9585\n",
            "Epoch 55/100\n",
            "28/28 [==============================] - 0s 1ms/step - loss: 7527.8804 - mae: 7527.8804\n",
            "Epoch 56/100\n",
            "28/28 [==============================] - 0s 1ms/step - loss: 7538.3130 - mae: 7538.3130\n",
            "Epoch 57/100\n",
            "28/28 [==============================] - 0s 1ms/step - loss: 7680.9453 - mae: 7680.9453\n",
            "Epoch 58/100\n",
            "28/28 [==============================] - 0s 1ms/step - loss: 7526.1987 - mae: 7526.1987\n",
            "Epoch 59/100\n",
            "28/28 [==============================] - 0s 1ms/step - loss: 7446.3320 - mae: 7446.3320\n",
            "Epoch 60/100\n",
            "28/28 [==============================] - 0s 1ms/step - loss: 7531.5322 - mae: 7531.5322\n",
            "Epoch 61/100\n",
            "28/28 [==============================] - 0s 1ms/step - loss: 7618.2456 - mae: 7618.2456\n",
            "Epoch 62/100\n",
            "28/28 [==============================] - 0s 1ms/step - loss: 7889.4751 - mae: 7889.4751\n",
            "Epoch 63/100\n",
            "28/28 [==============================] - 0s 1ms/step - loss: 7498.6914 - mae: 7498.6914\n",
            "Epoch 64/100\n",
            "28/28 [==============================] - 0s 1ms/step - loss: 7665.6963 - mae: 7665.6963\n",
            "Epoch 65/100\n",
            "28/28 [==============================] - 0s 1ms/step - loss: 7693.3794 - mae: 7693.3794\n",
            "Epoch 66/100\n",
            "28/28 [==============================] - 0s 1ms/step - loss: 7476.6328 - mae: 7476.6328\n",
            "Epoch 67/100\n",
            "28/28 [==============================] - 0s 1ms/step - loss: 7356.4229 - mae: 7356.4229\n",
            "Epoch 68/100\n",
            "28/28 [==============================] - 0s 1ms/step - loss: 7723.2183 - mae: 7723.2183\n",
            "Epoch 69/100\n",
            "28/28 [==============================] - 0s 1ms/step - loss: 7539.4946 - mae: 7539.4946\n",
            "Epoch 70/100\n",
            "28/28 [==============================] - 0s 1ms/step - loss: 7658.1978 - mae: 7658.1978\n",
            "Epoch 71/100\n",
            "28/28 [==============================] - 0s 1ms/step - loss: 7698.3525 - mae: 7698.3525\n",
            "Epoch 72/100\n",
            "28/28 [==============================] - 0s 1ms/step - loss: 7511.1235 - mae: 7511.1235\n",
            "Epoch 73/100\n",
            "28/28 [==============================] - 0s 1ms/step - loss: 7599.1196 - mae: 7599.1196\n",
            "Epoch 74/100\n",
            "28/28 [==============================] - 0s 1ms/step - loss: 7651.1787 - mae: 7651.1787\n",
            "Epoch 75/100\n",
            "28/28 [==============================] - 0s 1ms/step - loss: 7645.6040 - mae: 7645.6040\n",
            "Epoch 76/100\n",
            "28/28 [==============================] - 0s 1ms/step - loss: 7644.3608 - mae: 7644.3608\n",
            "Epoch 77/100\n",
            "28/28 [==============================] - 0s 1ms/step - loss: 7485.6221 - mae: 7485.6221\n",
            "Epoch 78/100\n",
            "28/28 [==============================] - 0s 1ms/step - loss: 7591.2236 - mae: 7591.2236\n",
            "Epoch 79/100\n",
            "28/28 [==============================] - 0s 1ms/step - loss: 7357.8281 - mae: 7357.8281\n",
            "Epoch 80/100\n",
            "28/28 [==============================] - 0s 1ms/step - loss: 7517.3076 - mae: 7517.3076\n",
            "Epoch 81/100\n",
            "28/28 [==============================] - 0s 1ms/step - loss: 7786.8486 - mae: 7786.8486\n",
            "Epoch 82/100\n",
            "28/28 [==============================] - 0s 1ms/step - loss: 7787.3306 - mae: 7787.3306\n",
            "Epoch 83/100\n",
            "28/28 [==============================] - 0s 1ms/step - loss: 7584.3477 - mae: 7584.3477\n",
            "Epoch 84/100\n",
            "28/28 [==============================] - 0s 1ms/step - loss: 7581.6909 - mae: 7581.6909\n",
            "Epoch 85/100\n",
            "28/28 [==============================] - 0s 1ms/step - loss: 7538.1514 - mae: 7538.1514\n",
            "Epoch 86/100\n",
            "28/28 [==============================] - 0s 1ms/step - loss: 7776.3154 - mae: 7776.3154\n",
            "Epoch 87/100\n",
            "28/28 [==============================] - 0s 1ms/step - loss: 7458.8857 - mae: 7458.8857\n",
            "Epoch 88/100\n",
            "28/28 [==============================] - 0s 1ms/step - loss: 7175.3667 - mae: 7175.3667\n",
            "Epoch 89/100\n",
            "28/28 [==============================] - 0s 1ms/step - loss: 7692.2471 - mae: 7692.2471\n",
            "Epoch 90/100\n",
            "28/28 [==============================] - 0s 1ms/step - loss: 7484.9248 - mae: 7484.9248\n",
            "Epoch 91/100\n",
            "28/28 [==============================] - 0s 1ms/step - loss: 7511.4663 - mae: 7511.4663\n",
            "Epoch 92/100\n",
            "28/28 [==============================] - 0s 1ms/step - loss: 7465.7412 - mae: 7465.7412\n",
            "Epoch 93/100\n",
            "28/28 [==============================] - 0s 1ms/step - loss: 7508.6909 - mae: 7508.6909\n",
            "Epoch 94/100\n",
            "28/28 [==============================] - 0s 1ms/step - loss: 7246.0508 - mae: 7246.0508\n",
            "Epoch 95/100\n",
            "28/28 [==============================] - 0s 1ms/step - loss: 7373.0493 - mae: 7373.0493\n",
            "Epoch 96/100\n",
            "28/28 [==============================] - 0s 1ms/step - loss: 7688.0454 - mae: 7688.0454\n",
            "Epoch 97/100\n",
            "28/28 [==============================] - 0s 1ms/step - loss: 7441.4487 - mae: 7441.4487\n",
            "Epoch 98/100\n",
            "28/28 [==============================] - 0s 1ms/step - loss: 7380.3174 - mae: 7380.3174\n",
            "Epoch 99/100\n",
            "28/28 [==============================] - 0s 1ms/step - loss: 7709.9282 - mae: 7709.9282\n",
            "Epoch 100/100\n",
            "28/28 [==============================] - 0s 1ms/step - loss: 7417.8916 - mae: 7417.8916\n"
          ],
          "name": "stdout"
        },
        {
          "output_type": "execute_result",
          "data": {
            "text/plain": [
              "<tensorflow.python.keras.callbacks.History at 0x7fe4e09de7d0>"
            ]
          },
          "metadata": {
            "tags": []
          },
          "execution_count": 101
        }
      ]
    },
    {
      "cell_type": "code",
      "metadata": {
        "colab": {
          "base_uri": "https://localhost:8080/"
        },
        "id": "YZUdpaXsUNoO",
        "outputId": "f3c60f1e-1287-4f8d-bc07-89c83257df48"
      },
      "source": [
        "insurance_model.evaluate(x_test, y_test)\n"
      ],
      "execution_count": 102,
      "outputs": [
        {
          "output_type": "stream",
          "text": [
            "14/14 [==============================] - 0s 1ms/step - loss: 7180.3271 - mae: 7180.3271\n"
          ],
          "name": "stdout"
        },
        {
          "output_type": "execute_result",
          "data": {
            "text/plain": [
              "[7180.3271484375, 7180.3271484375]"
            ]
          },
          "metadata": {
            "tags": []
          },
          "execution_count": 102
        }
      ]
    },
    {
      "cell_type": "code",
      "metadata": {
        "colab": {
          "base_uri": "https://localhost:8080/"
        },
        "id": "FKKvx-3tVoR1",
        "outputId": "b6e5e4b0-8870-408b-ec8a-17af13e8dfb6"
      },
      "source": [
        "y_train.median()"
      ],
      "execution_count": 103,
      "outputs": [
        {
          "output_type": "execute_result",
          "data": {
            "text/plain": [
              "9473.977725"
            ]
          },
          "metadata": {
            "tags": []
          },
          "execution_count": 103
        }
      ]
    },
    {
      "cell_type": "code",
      "metadata": {
        "colab": {
          "base_uri": "https://localhost:8080/"
        },
        "id": "GVGL9g-mVvFY",
        "outputId": "3d2ef380-474a-4013-925a-324169da0295"
      },
      "source": [
        "y_train.mean()"
      ],
      "execution_count": 104,
      "outputs": [
        {
          "output_type": "execute_result",
          "data": {
            "text/plain": [
              "13560.118576025663"
            ]
          },
          "metadata": {
            "tags": []
          },
          "execution_count": 104
        }
      ]
    },
    {
      "cell_type": "code",
      "metadata": {
        "colab": {
          "base_uri": "https://localhost:8080/"
        },
        "id": "Baayd7ubVxVf",
        "outputId": "b2012a88-d55e-48d6-ca3f-9d1374799070"
      },
      "source": [
        "#set random seed\n",
        "tf.random.set_seed(101)\n",
        "\n",
        "#1. create the model\n",
        "insurance_model_2 = tf.keras.Sequential([\n",
        "                                         tf.keras.layers.Dense(100),\n",
        "                                         tf.keras.layers.Dense(10),\n",
        "                                         tf.keras.layers.Dense(1)\n",
        "])\n",
        "\n",
        "insurance_model_2.compile(loss=tf.keras.losses.mae,\n",
        "                          optimizer = tf.keras.optimizers.Adam(),\n",
        "                          metrics=['mae'])\n",
        "\n",
        "#training\n",
        "insurance_model.fit(x_train,  y_train, epochs=100)"
      ],
      "execution_count": 105,
      "outputs": [
        {
          "output_type": "stream",
          "text": [
            "Epoch 1/100\n",
            "28/28 [==============================] - 0s 1ms/step - loss: 7382.1602 - mae: 7382.1602\n",
            "Epoch 2/100\n",
            "28/28 [==============================] - 0s 1ms/step - loss: 7362.6455 - mae: 7362.6455\n",
            "Epoch 3/100\n",
            "28/28 [==============================] - 0s 1ms/step - loss: 7630.5308 - mae: 7630.5308\n",
            "Epoch 4/100\n",
            "28/28 [==============================] - 0s 1000us/step - loss: 7243.7593 - mae: 7243.7593\n",
            "Epoch 5/100\n",
            "28/28 [==============================] - 0s 1ms/step - loss: 7396.6807 - mae: 7396.6807\n",
            "Epoch 6/100\n",
            "28/28 [==============================] - 0s 1ms/step - loss: 7515.2490 - mae: 7515.2490\n",
            "Epoch 7/100\n",
            "28/28 [==============================] - 0s 1ms/step - loss: 7195.9268 - mae: 7195.9268\n",
            "Epoch 8/100\n",
            "28/28 [==============================] - 0s 1ms/step - loss: 7166.5811 - mae: 7166.5811\n",
            "Epoch 9/100\n",
            "28/28 [==============================] - 0s 1ms/step - loss: 7479.1914 - mae: 7479.1914\n",
            "Epoch 10/100\n",
            "28/28 [==============================] - 0s 1ms/step - loss: 7530.1138 - mae: 7530.1138\n",
            "Epoch 11/100\n",
            "28/28 [==============================] - 0s 1ms/step - loss: 7280.3687 - mae: 7280.3687\n",
            "Epoch 12/100\n",
            "28/28 [==============================] - 0s 1ms/step - loss: 7646.3555 - mae: 7646.3555\n",
            "Epoch 13/100\n",
            "28/28 [==============================] - 0s 1ms/step - loss: 7306.3994 - mae: 7306.3994\n",
            "Epoch 14/100\n",
            "28/28 [==============================] - 0s 1ms/step - loss: 7410.9150 - mae: 7410.9150\n",
            "Epoch 15/100\n",
            "28/28 [==============================] - 0s 1ms/step - loss: 7412.6704 - mae: 7412.6704\n",
            "Epoch 16/100\n",
            "28/28 [==============================] - 0s 1ms/step - loss: 7503.3281 - mae: 7503.3281\n",
            "Epoch 17/100\n",
            "28/28 [==============================] - 0s 1ms/step - loss: 7213.7095 - mae: 7213.7095\n",
            "Epoch 18/100\n",
            "28/28 [==============================] - 0s 1ms/step - loss: 7245.8511 - mae: 7245.8511\n",
            "Epoch 19/100\n",
            "28/28 [==============================] - 0s 1ms/step - loss: 7387.3818 - mae: 7387.3818\n",
            "Epoch 20/100\n",
            "28/28 [==============================] - 0s 1ms/step - loss: 7284.2485 - mae: 7284.2485\n",
            "Epoch 21/100\n",
            "28/28 [==============================] - 0s 1ms/step - loss: 7185.3623 - mae: 7185.3623\n",
            "Epoch 22/100\n",
            "28/28 [==============================] - 0s 1ms/step - loss: 7630.5513 - mae: 7630.5513\n",
            "Epoch 23/100\n",
            "28/28 [==============================] - 0s 1ms/step - loss: 7230.3057 - mae: 7230.3057\n",
            "Epoch 24/100\n",
            "28/28 [==============================] - 0s 973us/step - loss: 7304.3867 - mae: 7304.3867\n",
            "Epoch 25/100\n",
            "28/28 [==============================] - 0s 1ms/step - loss: 7182.1909 - mae: 7182.1909\n",
            "Epoch 26/100\n",
            "28/28 [==============================] - 0s 1ms/step - loss: 7263.4844 - mae: 7263.4844\n",
            "Epoch 27/100\n",
            "28/28 [==============================] - 0s 1ms/step - loss: 7198.1968 - mae: 7198.1968\n",
            "Epoch 28/100\n",
            "28/28 [==============================] - 0s 1ms/step - loss: 7526.1675 - mae: 7526.1675\n",
            "Epoch 29/100\n",
            "28/28 [==============================] - 0s 1ms/step - loss: 7373.4780 - mae: 7373.4780\n",
            "Epoch 30/100\n",
            "28/28 [==============================] - 0s 1ms/step - loss: 7362.5366 - mae: 7362.5366\n",
            "Epoch 31/100\n",
            "28/28 [==============================] - 0s 1ms/step - loss: 7149.1069 - mae: 7149.1069\n",
            "Epoch 32/100\n",
            "28/28 [==============================] - 0s 1ms/step - loss: 7152.4507 - mae: 7152.4507\n",
            "Epoch 33/100\n",
            "28/28 [==============================] - 0s 1ms/step - loss: 7481.3794 - mae: 7481.3794\n",
            "Epoch 34/100\n",
            "28/28 [==============================] - 0s 1ms/step - loss: 7253.2446 - mae: 7253.2446\n",
            "Epoch 35/100\n",
            "28/28 [==============================] - 0s 1ms/step - loss: 7264.3853 - mae: 7264.3853\n",
            "Epoch 36/100\n",
            "28/28 [==============================] - 0s 1ms/step - loss: 7249.7466 - mae: 7249.7466\n",
            "Epoch 37/100\n",
            "28/28 [==============================] - 0s 1ms/step - loss: 7499.9839 - mae: 7499.9839\n",
            "Epoch 38/100\n",
            "28/28 [==============================] - 0s 1ms/step - loss: 7198.2368 - mae: 7198.2368\n",
            "Epoch 39/100\n",
            "28/28 [==============================] - 0s 1ms/step - loss: 7137.1997 - mae: 7137.1997\n",
            "Epoch 40/100\n",
            "28/28 [==============================] - 0s 1ms/step - loss: 7344.0791 - mae: 7344.0791\n",
            "Epoch 41/100\n",
            "28/28 [==============================] - 0s 1ms/step - loss: 7045.0312 - mae: 7045.0312\n",
            "Epoch 42/100\n",
            "28/28 [==============================] - 0s 1ms/step - loss: 7613.9092 - mae: 7613.9092\n",
            "Epoch 43/100\n",
            "28/28 [==============================] - 0s 1ms/step - loss: 7303.5518 - mae: 7303.5518\n",
            "Epoch 44/100\n",
            "28/28 [==============================] - 0s 1ms/step - loss: 6972.5078 - mae: 6972.5078\n",
            "Epoch 45/100\n",
            "28/28 [==============================] - 0s 2ms/step - loss: 7238.1406 - mae: 7238.1406\n",
            "Epoch 46/100\n",
            "28/28 [==============================] - 0s 1ms/step - loss: 7252.9155 - mae: 7252.9155\n",
            "Epoch 47/100\n",
            "28/28 [==============================] - 0s 1ms/step - loss: 6937.1509 - mae: 6937.1509\n",
            "Epoch 48/100\n",
            "28/28 [==============================] - 0s 1ms/step - loss: 7411.3765 - mae: 7411.3765\n",
            "Epoch 49/100\n",
            "28/28 [==============================] - 0s 1ms/step - loss: 7376.7446 - mae: 7376.7446\n",
            "Epoch 50/100\n",
            "28/28 [==============================] - 0s 1ms/step - loss: 7151.1265 - mae: 7151.1265\n",
            "Epoch 51/100\n",
            "28/28 [==============================] - 0s 1ms/step - loss: 7372.1831 - mae: 7372.1831\n",
            "Epoch 52/100\n",
            "28/28 [==============================] - 0s 1ms/step - loss: 7280.9087 - mae: 7280.9087\n",
            "Epoch 53/100\n",
            "28/28 [==============================] - 0s 1ms/step - loss: 7075.8203 - mae: 7075.8203\n",
            "Epoch 54/100\n",
            "28/28 [==============================] - 0s 1ms/step - loss: 7011.1377 - mae: 7011.1377\n",
            "Epoch 55/100\n",
            "28/28 [==============================] - 0s 1ms/step - loss: 6939.9253 - mae: 6939.9253\n",
            "Epoch 56/100\n",
            "28/28 [==============================] - 0s 1ms/step - loss: 7515.8521 - mae: 7515.8521\n",
            "Epoch 57/100\n",
            "28/28 [==============================] - 0s 1ms/step - loss: 7171.3032 - mae: 7171.3032\n",
            "Epoch 58/100\n",
            "28/28 [==============================] - 0s 1ms/step - loss: 7053.4893 - mae: 7053.4893\n",
            "Epoch 59/100\n",
            "28/28 [==============================] - 0s 1ms/step - loss: 7257.6489 - mae: 7257.6489\n",
            "Epoch 60/100\n",
            "28/28 [==============================] - 0s 1ms/step - loss: 7068.3877 - mae: 7068.3877\n",
            "Epoch 61/100\n",
            "28/28 [==============================] - 0s 1ms/step - loss: 7239.8394 - mae: 7239.8394\n",
            "Epoch 62/100\n",
            "28/28 [==============================] - 0s 1ms/step - loss: 7650.4028 - mae: 7650.4028\n",
            "Epoch 63/100\n",
            "28/28 [==============================] - 0s 1ms/step - loss: 7026.2500 - mae: 7026.2500\n",
            "Epoch 64/100\n",
            "28/28 [==============================] - 0s 1ms/step - loss: 7195.9990 - mae: 7195.9990\n",
            "Epoch 65/100\n",
            "28/28 [==============================] - 0s 1ms/step - loss: 7345.0835 - mae: 7345.0835\n",
            "Epoch 66/100\n",
            "28/28 [==============================] - 0s 1ms/step - loss: 7103.4346 - mae: 7103.4346\n",
            "Epoch 67/100\n",
            "28/28 [==============================] - 0s 1ms/step - loss: 7107.9868 - mae: 7107.9868\n",
            "Epoch 68/100\n",
            "28/28 [==============================] - 0s 1ms/step - loss: 7321.6538 - mae: 7321.6538\n",
            "Epoch 69/100\n",
            "28/28 [==============================] - 0s 1ms/step - loss: 7101.5991 - mae: 7101.5991\n",
            "Epoch 70/100\n",
            "28/28 [==============================] - 0s 1ms/step - loss: 7087.6943 - mae: 7087.6943\n",
            "Epoch 71/100\n",
            "28/28 [==============================] - 0s 1ms/step - loss: 7086.9561 - mae: 7086.9561\n",
            "Epoch 72/100\n",
            "28/28 [==============================] - 0s 1ms/step - loss: 7071.0044 - mae: 7071.0044\n",
            "Epoch 73/100\n",
            "28/28 [==============================] - 0s 1ms/step - loss: 7240.9424 - mae: 7240.9424\n",
            "Epoch 74/100\n",
            "28/28 [==============================] - 0s 1ms/step - loss: 6777.0068 - mae: 6777.0068\n",
            "Epoch 75/100\n",
            "28/28 [==============================] - 0s 1ms/step - loss: 7184.5986 - mae: 7184.5986\n",
            "Epoch 76/100\n",
            "28/28 [==============================] - 0s 1ms/step - loss: 7295.6953 - mae: 7295.6953\n",
            "Epoch 77/100\n",
            "28/28 [==============================] - 0s 1ms/step - loss: 6972.7188 - mae: 6972.7188\n",
            "Epoch 78/100\n",
            "28/28 [==============================] - 0s 1ms/step - loss: 7068.7651 - mae: 7068.7651\n",
            "Epoch 79/100\n",
            "28/28 [==============================] - 0s 1ms/step - loss: 7232.9624 - mae: 7232.9624\n",
            "Epoch 80/100\n",
            "28/28 [==============================] - 0s 1ms/step - loss: 7186.2622 - mae: 7186.2622\n",
            "Epoch 81/100\n",
            "28/28 [==============================] - 0s 1ms/step - loss: 7450.2534 - mae: 7450.2534\n",
            "Epoch 82/100\n",
            "28/28 [==============================] - 0s 1ms/step - loss: 7261.8555 - mae: 7261.8555\n",
            "Epoch 83/100\n",
            "28/28 [==============================] - 0s 1ms/step - loss: 6986.6328 - mae: 6986.6328\n",
            "Epoch 84/100\n",
            "28/28 [==============================] - 0s 2ms/step - loss: 7265.7778 - mae: 7265.7778\n",
            "Epoch 85/100\n",
            "28/28 [==============================] - 0s 1ms/step - loss: 6984.9702 - mae: 6984.9702\n",
            "Epoch 86/100\n",
            "28/28 [==============================] - 0s 1ms/step - loss: 7156.0308 - mae: 7156.0308\n",
            "Epoch 87/100\n",
            "28/28 [==============================] - 0s 1ms/step - loss: 7009.3936 - mae: 7009.3936\n",
            "Epoch 88/100\n",
            "28/28 [==============================] - 0s 1ms/step - loss: 6975.6362 - mae: 6975.6362\n",
            "Epoch 89/100\n",
            "28/28 [==============================] - 0s 1ms/step - loss: 7120.6548 - mae: 7120.6548\n",
            "Epoch 90/100\n",
            "28/28 [==============================] - 0s 1ms/step - loss: 6981.5610 - mae: 6981.5610\n",
            "Epoch 91/100\n",
            "28/28 [==============================] - 0s 1ms/step - loss: 7060.6787 - mae: 7060.6787\n",
            "Epoch 92/100\n",
            "28/28 [==============================] - 0s 1ms/step - loss: 6983.5000 - mae: 6983.5000\n",
            "Epoch 93/100\n",
            "28/28 [==============================] - 0s 1ms/step - loss: 7145.0610 - mae: 7145.0610\n",
            "Epoch 94/100\n",
            "28/28 [==============================] - 0s 2ms/step - loss: 7119.1851 - mae: 7119.1851\n",
            "Epoch 95/100\n",
            "28/28 [==============================] - 0s 1ms/step - loss: 6819.1899 - mae: 6819.1899\n",
            "Epoch 96/100\n",
            "28/28 [==============================] - 0s 1ms/step - loss: 6976.1392 - mae: 6976.1392\n",
            "Epoch 97/100\n",
            "28/28 [==============================] - 0s 1ms/step - loss: 6988.5767 - mae: 6988.5767\n",
            "Epoch 98/100\n",
            "28/28 [==============================] - 0s 1ms/step - loss: 6835.6489 - mae: 6835.6489\n",
            "Epoch 99/100\n",
            "28/28 [==============================] - 0s 1ms/step - loss: 7033.9424 - mae: 7033.9424\n",
            "Epoch 100/100\n",
            "28/28 [==============================] - 0s 1ms/step - loss: 7114.4399 - mae: 7114.4399\n"
          ],
          "name": "stdout"
        },
        {
          "output_type": "execute_result",
          "data": {
            "text/plain": [
              "<tensorflow.python.keras.callbacks.History at 0x7fe4e08e5dd0>"
            ]
          },
          "metadata": {
            "tags": []
          },
          "execution_count": 105
        }
      ]
    },
    {
      "cell_type": "code",
      "metadata": {
        "colab": {
          "base_uri": "https://localhost:8080/"
        },
        "id": "OAXfpXPCXQNC",
        "outputId": "f1a4731b-0aad-4d63-e89a-b2fc5a3e043b"
      },
      "source": [
        "insurance_model_2.evaluate(x_test, y_test)"
      ],
      "execution_count": 106,
      "outputs": [
        {
          "output_type": "stream",
          "text": [
            "14/14 [==============================] - 0s 1ms/step - loss: 12672.4170 - mae: 12672.4170\n"
          ],
          "name": "stdout"
        },
        {
          "output_type": "execute_result",
          "data": {
            "text/plain": [
              "[12672.4169921875, 12672.4169921875]"
            ]
          },
          "metadata": {
            "tags": []
          },
          "execution_count": 106
        }
      ]
    },
    {
      "cell_type": "code",
      "metadata": {
        "colab": {
          "base_uri": "https://localhost:8080/"
        },
        "id": "THVphKS7XsfK",
        "outputId": "8a60e57b-0d86-4174-f8c1-fd86ce5a2546"
      },
      "source": [
        "tf.random.set_seed(101)\n",
        "\n",
        "insurance_model_3 = tf.keras.Sequential([\n",
        "                                         tf.keras.layers.Dense(100),\n",
        "                                         tf.keras.layers.Dense(10),\n",
        "                                         tf.keras.layers.Dense(1)\n",
        "\n",
        "])\n",
        "\n",
        "insurance_model_3.compile(loss=tf.keras.losses.mae, \n",
        "                          optimizer=tf.keras.optimizers.Adam(),\n",
        "                          metrics=['mae'])\n",
        "\n",
        "#3. fit the model\n",
        "history = insurance_model_3.fit(x_train, y_train , epochs=200)\n",
        "\n"
      ],
      "execution_count": 108,
      "outputs": [
        {
          "output_type": "stream",
          "text": [
            "Epoch 1/200\n",
            "28/28 [==============================] - 0s 2ms/step - loss: 13509.3662 - mae: 13509.3662\n",
            "Epoch 2/200\n",
            "28/28 [==============================] - 0s 1ms/step - loss: 13398.5146 - mae: 13398.5146\n",
            "Epoch 3/200\n",
            "28/28 [==============================] - 0s 1ms/step - loss: 13197.1338 - mae: 13197.1338\n",
            "Epoch 4/200\n",
            "28/28 [==============================] - 0s 1ms/step - loss: 12830.7490 - mae: 12830.7490\n",
            "Epoch 5/200\n",
            "28/28 [==============================] - 0s 1ms/step - loss: 12206.1777 - mae: 12206.1777\n",
            "Epoch 6/200\n",
            "28/28 [==============================] - 0s 1ms/step - loss: 11270.1025 - mae: 11270.1025\n",
            "Epoch 7/200\n",
            "28/28 [==============================] - 0s 1ms/step - loss: 10106.2969 - mae: 10106.2969\n",
            "Epoch 8/200\n",
            "28/28 [==============================] - 0s 1ms/step - loss: 8961.2891 - mae: 8961.2891\n",
            "Epoch 9/200\n",
            "28/28 [==============================] - 0s 1ms/step - loss: 8153.4067 - mae: 8153.4067\n",
            "Epoch 10/200\n",
            "28/28 [==============================] - 0s 1ms/step - loss: 7863.4351 - mae: 7863.4351\n",
            "Epoch 11/200\n",
            "28/28 [==============================] - 0s 1ms/step - loss: 7776.8198 - mae: 7776.8198\n",
            "Epoch 12/200\n",
            "28/28 [==============================] - 0s 1ms/step - loss: 7755.6758 - mae: 7755.6758\n",
            "Epoch 13/200\n",
            "28/28 [==============================] - 0s 2ms/step - loss: 7739.3740 - mae: 7739.3740\n",
            "Epoch 14/200\n",
            "28/28 [==============================] - 0s 1ms/step - loss: 7719.6182 - mae: 7719.6182\n",
            "Epoch 15/200\n",
            "28/28 [==============================] - 0s 2ms/step - loss: 7701.4360 - mae: 7701.4360\n",
            "Epoch 16/200\n",
            "28/28 [==============================] - 0s 1ms/step - loss: 7683.5200 - mae: 7683.5200\n",
            "Epoch 17/200\n",
            "28/28 [==============================] - 0s 1ms/step - loss: 7665.0391 - mae: 7665.0391\n",
            "Epoch 18/200\n",
            "28/28 [==============================] - 0s 1ms/step - loss: 7647.5244 - mae: 7647.5244\n",
            "Epoch 19/200\n",
            "28/28 [==============================] - 0s 1ms/step - loss: 7627.5400 - mae: 7627.5400\n",
            "Epoch 20/200\n",
            "28/28 [==============================] - 0s 2ms/step - loss: 7611.3892 - mae: 7611.3892\n",
            "Epoch 21/200\n",
            "28/28 [==============================] - 0s 1ms/step - loss: 7590.9722 - mae: 7590.9722\n",
            "Epoch 22/200\n",
            "28/28 [==============================] - 0s 1ms/step - loss: 7572.5625 - mae: 7572.5625\n",
            "Epoch 23/200\n",
            "28/28 [==============================] - 0s 2ms/step - loss: 7550.0981 - mae: 7550.0981\n",
            "Epoch 24/200\n",
            "28/28 [==============================] - 0s 1ms/step - loss: 7532.1558 - mae: 7532.1558\n",
            "Epoch 25/200\n",
            "28/28 [==============================] - 0s 2ms/step - loss: 7512.8955 - mae: 7512.8955\n",
            "Epoch 26/200\n",
            "28/28 [==============================] - 0s 2ms/step - loss: 7493.1558 - mae: 7493.1558\n",
            "Epoch 27/200\n",
            "28/28 [==============================] - 0s 1ms/step - loss: 7469.1821 - mae: 7469.1821\n",
            "Epoch 28/200\n",
            "28/28 [==============================] - 0s 1ms/step - loss: 7449.9575 - mae: 7449.9575\n",
            "Epoch 29/200\n",
            "28/28 [==============================] - 0s 2ms/step - loss: 7426.1475 - mae: 7426.1475\n",
            "Epoch 30/200\n",
            "28/28 [==============================] - 0s 1ms/step - loss: 7403.5679 - mae: 7403.5679\n",
            "Epoch 31/200\n",
            "28/28 [==============================] - 0s 1ms/step - loss: 7382.3394 - mae: 7382.3394\n",
            "Epoch 32/200\n",
            "28/28 [==============================] - 0s 1ms/step - loss: 7362.3794 - mae: 7362.3794\n",
            "Epoch 33/200\n",
            "28/28 [==============================] - 0s 2ms/step - loss: 7335.5972 - mae: 7335.5972\n",
            "Epoch 34/200\n",
            "28/28 [==============================] - 0s 1ms/step - loss: 7314.1235 - mae: 7314.1235\n",
            "Epoch 35/200\n",
            "28/28 [==============================] - 0s 1ms/step - loss: 7288.7866 - mae: 7288.7866\n",
            "Epoch 36/200\n",
            "28/28 [==============================] - 0s 1ms/step - loss: 7264.3345 - mae: 7264.3345\n",
            "Epoch 37/200\n",
            "28/28 [==============================] - 0s 1ms/step - loss: 7239.3003 - mae: 7239.3003\n",
            "Epoch 38/200\n",
            "28/28 [==============================] - 0s 1ms/step - loss: 7212.5234 - mae: 7212.5234\n",
            "Epoch 39/200\n",
            "28/28 [==============================] - 0s 1ms/step - loss: 7190.6587 - mae: 7190.6587\n",
            "Epoch 40/200\n",
            "28/28 [==============================] - 0s 1ms/step - loss: 7161.0610 - mae: 7161.0610\n",
            "Epoch 41/200\n",
            "28/28 [==============================] - 0s 2ms/step - loss: 7134.1318 - mae: 7134.1318\n",
            "Epoch 42/200\n",
            "28/28 [==============================] - 0s 1ms/step - loss: 7106.4995 - mae: 7106.4995\n",
            "Epoch 43/200\n",
            "28/28 [==============================] - 0s 2ms/step - loss: 7078.4458 - mae: 7078.4458\n",
            "Epoch 44/200\n",
            "28/28 [==============================] - 0s 2ms/step - loss: 7048.6826 - mae: 7048.6826\n",
            "Epoch 45/200\n",
            "28/28 [==============================] - 0s 2ms/step - loss: 7019.0283 - mae: 7019.0283\n",
            "Epoch 46/200\n",
            "28/28 [==============================] - 0s 1ms/step - loss: 6988.2544 - mae: 6988.2544\n",
            "Epoch 47/200\n",
            "28/28 [==============================] - 0s 2ms/step - loss: 6956.7739 - mae: 6956.7739\n",
            "Epoch 48/200\n",
            "28/28 [==============================] - 0s 2ms/step - loss: 6927.4697 - mae: 6927.4697\n",
            "Epoch 49/200\n",
            "28/28 [==============================] - 0s 2ms/step - loss: 6899.3306 - mae: 6899.3306\n",
            "Epoch 50/200\n",
            "28/28 [==============================] - 0s 1ms/step - loss: 6875.4897 - mae: 6875.4897\n",
            "Epoch 51/200\n",
            "28/28 [==============================] - 0s 2ms/step - loss: 6848.9531 - mae: 6848.9531\n",
            "Epoch 52/200\n",
            "28/28 [==============================] - 0s 1ms/step - loss: 6824.4614 - mae: 6824.4614\n",
            "Epoch 53/200\n",
            "28/28 [==============================] - 0s 1ms/step - loss: 6807.3115 - mae: 6807.3115\n",
            "Epoch 54/200\n",
            "28/28 [==============================] - 0s 1ms/step - loss: 6798.5767 - mae: 6798.5767\n",
            "Epoch 55/200\n",
            "28/28 [==============================] - 0s 1ms/step - loss: 6774.3110 - mae: 6774.3110\n",
            "Epoch 56/200\n",
            "28/28 [==============================] - 0s 1ms/step - loss: 6761.6528 - mae: 6761.6528\n",
            "Epoch 57/200\n",
            "28/28 [==============================] - 0s 2ms/step - loss: 6748.4600 - mae: 6748.4600\n",
            "Epoch 58/200\n",
            "28/28 [==============================] - 0s 1ms/step - loss: 6735.7104 - mae: 6735.7104\n",
            "Epoch 59/200\n",
            "28/28 [==============================] - 0s 1ms/step - loss: 6726.9814 - mae: 6726.9814\n",
            "Epoch 60/200\n",
            "28/28 [==============================] - 0s 1ms/step - loss: 6710.1587 - mae: 6710.1587\n",
            "Epoch 61/200\n",
            "28/28 [==============================] - 0s 2ms/step - loss: 6699.1104 - mae: 6699.1104\n",
            "Epoch 62/200\n",
            "28/28 [==============================] - 0s 2ms/step - loss: 6689.4502 - mae: 6689.4502\n",
            "Epoch 63/200\n",
            "28/28 [==============================] - 0s 2ms/step - loss: 6677.6050 - mae: 6677.6050\n",
            "Epoch 64/200\n",
            "28/28 [==============================] - 0s 2ms/step - loss: 6664.7075 - mae: 6664.7075\n",
            "Epoch 65/200\n",
            "28/28 [==============================] - 0s 2ms/step - loss: 6649.2222 - mae: 6649.2222\n",
            "Epoch 66/200\n",
            "28/28 [==============================] - 0s 2ms/step - loss: 6641.3618 - mae: 6641.3618\n",
            "Epoch 67/200\n",
            "28/28 [==============================] - 0s 1ms/step - loss: 6625.8076 - mae: 6625.8076\n",
            "Epoch 68/200\n",
            "28/28 [==============================] - 0s 1ms/step - loss: 6610.7568 - mae: 6610.7568\n",
            "Epoch 69/200\n",
            "28/28 [==============================] - 0s 1ms/step - loss: 6601.0674 - mae: 6601.0674\n",
            "Epoch 70/200\n",
            "28/28 [==============================] - 0s 1ms/step - loss: 6588.1704 - mae: 6588.1704\n",
            "Epoch 71/200\n",
            "28/28 [==============================] - 0s 1ms/step - loss: 6572.0366 - mae: 6572.0366\n",
            "Epoch 72/200\n",
            "28/28 [==============================] - 0s 1ms/step - loss: 6558.7173 - mae: 6558.7173\n",
            "Epoch 73/200\n",
            "28/28 [==============================] - 0s 1ms/step - loss: 6549.5142 - mae: 6549.5142\n",
            "Epoch 74/200\n",
            "28/28 [==============================] - 0s 2ms/step - loss: 6529.8022 - mae: 6529.8022\n",
            "Epoch 75/200\n",
            "28/28 [==============================] - 0s 2ms/step - loss: 6516.2007 - mae: 6516.2007\n",
            "Epoch 76/200\n",
            "28/28 [==============================] - 0s 1ms/step - loss: 6498.2271 - mae: 6498.2271\n",
            "Epoch 77/200\n",
            "28/28 [==============================] - 0s 2ms/step - loss: 6483.7378 - mae: 6483.7378\n",
            "Epoch 78/200\n",
            "28/28 [==============================] - 0s 2ms/step - loss: 6469.2812 - mae: 6469.2812\n",
            "Epoch 79/200\n",
            "28/28 [==============================] - 0s 1ms/step - loss: 6453.2075 - mae: 6453.2075\n",
            "Epoch 80/200\n",
            "28/28 [==============================] - 0s 1ms/step - loss: 6439.8901 - mae: 6439.8901\n",
            "Epoch 81/200\n",
            "28/28 [==============================] - 0s 2ms/step - loss: 6420.6636 - mae: 6420.6636\n",
            "Epoch 82/200\n",
            "28/28 [==============================] - 0s 1ms/step - loss: 6403.0342 - mae: 6403.0342\n",
            "Epoch 83/200\n",
            "28/28 [==============================] - 0s 1ms/step - loss: 6384.4399 - mae: 6384.4399\n",
            "Epoch 84/200\n",
            "28/28 [==============================] - 0s 1ms/step - loss: 6368.3491 - mae: 6368.3491\n",
            "Epoch 85/200\n",
            "28/28 [==============================] - 0s 1ms/step - loss: 6349.2925 - mae: 6349.2925\n",
            "Epoch 86/200\n",
            "28/28 [==============================] - 0s 2ms/step - loss: 6330.5068 - mae: 6330.5068\n",
            "Epoch 87/200\n",
            "28/28 [==============================] - 0s 1ms/step - loss: 6314.4727 - mae: 6314.4727\n",
            "Epoch 88/200\n",
            "28/28 [==============================] - 0s 2ms/step - loss: 6294.7275 - mae: 6294.7275\n",
            "Epoch 89/200\n",
            "28/28 [==============================] - 0s 1ms/step - loss: 6272.7646 - mae: 6272.7646\n",
            "Epoch 90/200\n",
            "28/28 [==============================] - 0s 1ms/step - loss: 6251.7017 - mae: 6251.7017\n",
            "Epoch 91/200\n",
            "28/28 [==============================] - 0s 1ms/step - loss: 6232.2202 - mae: 6232.2202\n",
            "Epoch 92/200\n",
            "28/28 [==============================] - 0s 1ms/step - loss: 6209.7261 - mae: 6209.7261\n",
            "Epoch 93/200\n",
            "28/28 [==============================] - 0s 1ms/step - loss: 6183.7588 - mae: 6183.7588\n",
            "Epoch 94/200\n",
            "28/28 [==============================] - 0s 2ms/step - loss: 6163.2573 - mae: 6163.2573\n",
            "Epoch 95/200\n",
            "28/28 [==============================] - 0s 1ms/step - loss: 6138.6963 - mae: 6138.6963\n",
            "Epoch 96/200\n",
            "28/28 [==============================] - 0s 1ms/step - loss: 6112.7241 - mae: 6112.7241\n",
            "Epoch 97/200\n",
            "28/28 [==============================] - 0s 2ms/step - loss: 6089.2939 - mae: 6089.2939\n",
            "Epoch 98/200\n",
            "28/28 [==============================] - 0s 1ms/step - loss: 6058.0195 - mae: 6058.0195\n",
            "Epoch 99/200\n",
            "28/28 [==============================] - 0s 1ms/step - loss: 6033.3228 - mae: 6033.3228\n",
            "Epoch 100/200\n",
            "28/28 [==============================] - 0s 1ms/step - loss: 5998.5522 - mae: 5998.5522\n",
            "Epoch 101/200\n",
            "28/28 [==============================] - 0s 2ms/step - loss: 5978.2939 - mae: 5978.2939\n",
            "Epoch 102/200\n",
            "28/28 [==============================] - 0s 1ms/step - loss: 5940.3169 - mae: 5940.3169\n",
            "Epoch 103/200\n",
            "28/28 [==============================] - 0s 1ms/step - loss: 5907.3521 - mae: 5907.3521\n",
            "Epoch 104/200\n",
            "28/28 [==============================] - 0s 2ms/step - loss: 5876.7417 - mae: 5876.7417\n",
            "Epoch 105/200\n",
            "28/28 [==============================] - 0s 2ms/step - loss: 5837.9990 - mae: 5837.9990\n",
            "Epoch 106/200\n",
            "28/28 [==============================] - 0s 2ms/step - loss: 5802.6094 - mae: 5802.6094\n",
            "Epoch 107/200\n",
            "28/28 [==============================] - 0s 2ms/step - loss: 5776.7427 - mae: 5776.7427\n",
            "Epoch 108/200\n",
            "28/28 [==============================] - 0s 1ms/step - loss: 5724.3086 - mae: 5724.3086\n",
            "Epoch 109/200\n",
            "28/28 [==============================] - 0s 1ms/step - loss: 5682.4614 - mae: 5682.4614\n",
            "Epoch 110/200\n",
            "28/28 [==============================] - 0s 1ms/step - loss: 5641.4683 - mae: 5641.4683\n",
            "Epoch 111/200\n",
            "28/28 [==============================] - 0s 1ms/step - loss: 5593.4922 - mae: 5593.4922\n",
            "Epoch 112/200\n",
            "28/28 [==============================] - 0s 2ms/step - loss: 5549.6963 - mae: 5549.6963\n",
            "Epoch 113/200\n",
            "28/28 [==============================] - 0s 1ms/step - loss: 5502.5181 - mae: 5502.5181\n",
            "Epoch 114/200\n",
            "28/28 [==============================] - 0s 1ms/step - loss: 5460.4292 - mae: 5460.4292\n",
            "Epoch 115/200\n",
            "28/28 [==============================] - 0s 2ms/step - loss: 5412.5308 - mae: 5412.5308\n",
            "Epoch 116/200\n",
            "28/28 [==============================] - 0s 2ms/step - loss: 5345.6064 - mae: 5345.6064\n",
            "Epoch 117/200\n",
            "28/28 [==============================] - 0s 2ms/step - loss: 5279.2891 - mae: 5279.2891\n",
            "Epoch 118/200\n",
            "28/28 [==============================] - 0s 1ms/step - loss: 5219.2495 - mae: 5219.2495\n",
            "Epoch 119/200\n",
            "28/28 [==============================] - 0s 2ms/step - loss: 5152.8296 - mae: 5152.8296\n",
            "Epoch 120/200\n",
            "28/28 [==============================] - 0s 1ms/step - loss: 5088.6294 - mae: 5088.6294\n",
            "Epoch 121/200\n",
            "28/28 [==============================] - 0s 2ms/step - loss: 5017.8325 - mae: 5017.8325\n",
            "Epoch 122/200\n",
            "28/28 [==============================] - 0s 2ms/step - loss: 4948.2397 - mae: 4948.2397\n",
            "Epoch 123/200\n",
            "28/28 [==============================] - 0s 1ms/step - loss: 4870.0576 - mae: 4870.0576\n",
            "Epoch 124/200\n",
            "28/28 [==============================] - 0s 2ms/step - loss: 4791.9658 - mae: 4791.9658\n",
            "Epoch 125/200\n",
            "28/28 [==============================] - 0s 2ms/step - loss: 4706.5908 - mae: 4706.5908\n",
            "Epoch 126/200\n",
            "28/28 [==============================] - 0s 1ms/step - loss: 4622.8960 - mae: 4622.8960\n",
            "Epoch 127/200\n",
            "28/28 [==============================] - 0s 2ms/step - loss: 4538.9546 - mae: 4538.9546\n",
            "Epoch 128/200\n",
            "28/28 [==============================] - 0s 2ms/step - loss: 4465.1733 - mae: 4465.1733\n",
            "Epoch 129/200\n",
            "28/28 [==============================] - 0s 1ms/step - loss: 4382.6318 - mae: 4382.6318\n",
            "Epoch 130/200\n",
            "28/28 [==============================] - 0s 2ms/step - loss: 4300.0483 - mae: 4300.0483\n",
            "Epoch 131/200\n",
            "28/28 [==============================] - 0s 2ms/step - loss: 4230.4287 - mae: 4230.4287\n",
            "Epoch 132/200\n",
            "28/28 [==============================] - 0s 2ms/step - loss: 4164.2822 - mae: 4164.2822\n",
            "Epoch 133/200\n",
            "28/28 [==============================] - 0s 1ms/step - loss: 4113.9971 - mae: 4113.9971\n",
            "Epoch 134/200\n",
            "28/28 [==============================] - 0s 1ms/step - loss: 4072.4146 - mae: 4072.4146\n",
            "Epoch 135/200\n",
            "28/28 [==============================] - 0s 2ms/step - loss: 4051.7014 - mae: 4051.7014\n",
            "Epoch 136/200\n",
            "28/28 [==============================] - 0s 1ms/step - loss: 4023.2515 - mae: 4023.2515\n",
            "Epoch 137/200\n",
            "28/28 [==============================] - 0s 2ms/step - loss: 3983.9993 - mae: 3983.9993\n",
            "Epoch 138/200\n",
            "28/28 [==============================] - 0s 1ms/step - loss: 3971.9656 - mae: 3971.9656\n",
            "Epoch 139/200\n",
            "28/28 [==============================] - 0s 1ms/step - loss: 3977.0156 - mae: 3977.0156\n",
            "Epoch 140/200\n",
            "28/28 [==============================] - 0s 2ms/step - loss: 3948.0647 - mae: 3948.0647\n",
            "Epoch 141/200\n",
            "28/28 [==============================] - 0s 2ms/step - loss: 3938.2014 - mae: 3938.2014\n",
            "Epoch 142/200\n",
            "28/28 [==============================] - 0s 1ms/step - loss: 3925.8110 - mae: 3925.8110\n",
            "Epoch 143/200\n",
            "28/28 [==============================] - 0s 1ms/step - loss: 3925.4939 - mae: 3925.4939\n",
            "Epoch 144/200\n",
            "28/28 [==============================] - 0s 2ms/step - loss: 3935.6118 - mae: 3935.6118\n",
            "Epoch 145/200\n",
            "28/28 [==============================] - 0s 1ms/step - loss: 3922.9321 - mae: 3922.9321\n",
            "Epoch 146/200\n",
            "28/28 [==============================] - 0s 2ms/step - loss: 3923.5503 - mae: 3923.5503\n",
            "Epoch 147/200\n",
            "28/28 [==============================] - 0s 2ms/step - loss: 3913.6909 - mae: 3913.6909\n",
            "Epoch 148/200\n",
            "28/28 [==============================] - 0s 2ms/step - loss: 3926.7339 - mae: 3926.7339\n",
            "Epoch 149/200\n",
            "28/28 [==============================] - 0s 1ms/step - loss: 3901.8569 - mae: 3901.8569\n",
            "Epoch 150/200\n",
            "28/28 [==============================] - 0s 1ms/step - loss: 3903.6335 - mae: 3903.6335\n",
            "Epoch 151/200\n",
            "28/28 [==============================] - 0s 2ms/step - loss: 3900.2812 - mae: 3900.2812\n",
            "Epoch 152/200\n",
            "28/28 [==============================] - 0s 2ms/step - loss: 3895.7478 - mae: 3895.7478\n",
            "Epoch 153/200\n",
            "28/28 [==============================] - 0s 2ms/step - loss: 3898.8894 - mae: 3898.8894\n",
            "Epoch 154/200\n",
            "28/28 [==============================] - 0s 2ms/step - loss: 3904.7009 - mae: 3904.7009\n",
            "Epoch 155/200\n",
            "28/28 [==============================] - 0s 1ms/step - loss: 3892.1235 - mae: 3892.1235\n",
            "Epoch 156/200\n",
            "28/28 [==============================] - 0s 1ms/step - loss: 3888.1960 - mae: 3888.1960\n",
            "Epoch 157/200\n",
            "28/28 [==============================] - 0s 1ms/step - loss: 3890.2708 - mae: 3890.2708\n",
            "Epoch 158/200\n",
            "28/28 [==============================] - 0s 1ms/step - loss: 3885.4448 - mae: 3885.4448\n",
            "Epoch 159/200\n",
            "28/28 [==============================] - 0s 2ms/step - loss: 3884.4453 - mae: 3884.4453\n",
            "Epoch 160/200\n",
            "28/28 [==============================] - 0s 2ms/step - loss: 3883.5920 - mae: 3883.5920\n",
            "Epoch 161/200\n",
            "28/28 [==============================] - 0s 2ms/step - loss: 3902.7852 - mae: 3902.7852\n",
            "Epoch 162/200\n",
            "28/28 [==============================] - 0s 1ms/step - loss: 3884.4636 - mae: 3884.4636\n",
            "Epoch 163/200\n",
            "28/28 [==============================] - 0s 1ms/step - loss: 3887.3335 - mae: 3887.3335\n",
            "Epoch 164/200\n",
            "28/28 [==============================] - 0s 1ms/step - loss: 3880.4783 - mae: 3880.4783\n",
            "Epoch 165/200\n",
            "28/28 [==============================] - 0s 2ms/step - loss: 3876.8162 - mae: 3876.8162\n",
            "Epoch 166/200\n",
            "28/28 [==============================] - 0s 2ms/step - loss: 3875.8616 - mae: 3875.8616\n",
            "Epoch 167/200\n",
            "28/28 [==============================] - 0s 1ms/step - loss: 3873.3347 - mae: 3873.3347\n",
            "Epoch 168/200\n",
            "28/28 [==============================] - 0s 2ms/step - loss: 3875.0852 - mae: 3875.0852\n",
            "Epoch 169/200\n",
            "28/28 [==============================] - 0s 1ms/step - loss: 3882.2537 - mae: 3882.2537\n",
            "Epoch 170/200\n",
            "28/28 [==============================] - 0s 2ms/step - loss: 3876.9180 - mae: 3876.9180\n",
            "Epoch 171/200\n",
            "28/28 [==============================] - 0s 1ms/step - loss: 3883.9377 - mae: 3883.9377\n",
            "Epoch 172/200\n",
            "28/28 [==============================] - 0s 1ms/step - loss: 3868.1509 - mae: 3868.1509\n",
            "Epoch 173/200\n",
            "28/28 [==============================] - 0s 2ms/step - loss: 3871.7563 - mae: 3871.7563\n",
            "Epoch 174/200\n",
            "28/28 [==============================] - 0s 2ms/step - loss: 3870.2134 - mae: 3870.2134\n",
            "Epoch 175/200\n",
            "28/28 [==============================] - 0s 1ms/step - loss: 3870.9185 - mae: 3870.9185\n",
            "Epoch 176/200\n",
            "28/28 [==============================] - 0s 2ms/step - loss: 3867.8752 - mae: 3867.8752\n",
            "Epoch 177/200\n",
            "28/28 [==============================] - 0s 1ms/step - loss: 3867.5962 - mae: 3867.5962\n",
            "Epoch 178/200\n",
            "28/28 [==============================] - 0s 1ms/step - loss: 3869.4565 - mae: 3869.4565\n",
            "Epoch 179/200\n",
            "28/28 [==============================] - 0s 2ms/step - loss: 3868.6108 - mae: 3868.6108\n",
            "Epoch 180/200\n",
            "28/28 [==============================] - 0s 2ms/step - loss: 3863.4392 - mae: 3863.4392\n",
            "Epoch 181/200\n",
            "28/28 [==============================] - 0s 2ms/step - loss: 3871.4099 - mae: 3871.4099\n",
            "Epoch 182/200\n",
            "28/28 [==============================] - 0s 1ms/step - loss: 3871.1836 - mae: 3871.1836\n",
            "Epoch 183/200\n",
            "28/28 [==============================] - 0s 1ms/step - loss: 3860.5808 - mae: 3860.5808\n",
            "Epoch 184/200\n",
            "28/28 [==============================] - 0s 1ms/step - loss: 3864.2383 - mae: 3864.2383\n",
            "Epoch 185/200\n",
            "28/28 [==============================] - 0s 2ms/step - loss: 3860.0872 - mae: 3860.0872\n",
            "Epoch 186/200\n",
            "28/28 [==============================] - 0s 1ms/step - loss: 3856.1604 - mae: 3856.1604\n",
            "Epoch 187/200\n",
            "28/28 [==============================] - 0s 1ms/step - loss: 3858.4783 - mae: 3858.4783\n",
            "Epoch 188/200\n",
            "28/28 [==============================] - 0s 2ms/step - loss: 3860.4644 - mae: 3860.4644\n",
            "Epoch 189/200\n",
            "28/28 [==============================] - 0s 2ms/step - loss: 3863.7952 - mae: 3863.7952\n",
            "Epoch 190/200\n",
            "28/28 [==============================] - 0s 1ms/step - loss: 3863.4224 - mae: 3863.4224\n",
            "Epoch 191/200\n",
            "28/28 [==============================] - 0s 1ms/step - loss: 3857.3918 - mae: 3857.3918\n",
            "Epoch 192/200\n",
            "28/28 [==============================] - 0s 2ms/step - loss: 3860.1172 - mae: 3860.1172\n",
            "Epoch 193/200\n",
            "28/28 [==============================] - 0s 1ms/step - loss: 3857.3025 - mae: 3857.3025\n",
            "Epoch 194/200\n",
            "28/28 [==============================] - 0s 1ms/step - loss: 3860.8774 - mae: 3860.8774\n",
            "Epoch 195/200\n",
            "28/28 [==============================] - 0s 1ms/step - loss: 3850.6667 - mae: 3850.6667\n",
            "Epoch 196/200\n",
            "28/28 [==============================] - 0s 2ms/step - loss: 3849.2664 - mae: 3849.2664\n",
            "Epoch 197/200\n",
            "28/28 [==============================] - 0s 1ms/step - loss: 3852.0310 - mae: 3852.0310\n",
            "Epoch 198/200\n",
            "28/28 [==============================] - 0s 2ms/step - loss: 3855.7739 - mae: 3855.7739\n",
            "Epoch 199/200\n",
            "28/28 [==============================] - 0s 1ms/step - loss: 3848.5701 - mae: 3848.5701\n",
            "Epoch 200/200\n",
            "28/28 [==============================] - 0s 2ms/step - loss: 3846.0837 - mae: 3846.0837\n"
          ],
          "name": "stdout"
        }
      ]
    },
    {
      "cell_type": "code",
      "metadata": {
        "colab": {
          "base_uri": "https://localhost:8080/"
        },
        "id": "VFCZe3HAYlxq",
        "outputId": "5ff1df2d-5807-4ada-f5c8-757f7056bdb2"
      },
      "source": [
        "insurance_model_3.evaluate(x_train, y_train)"
      ],
      "execution_count": 109,
      "outputs": [
        {
          "output_type": "stream",
          "text": [
            "28/28 [==============================] - 0s 1ms/step - loss: 3880.2402 - mae: 3880.2402\n"
          ],
          "name": "stdout"
        },
        {
          "output_type": "execute_result",
          "data": {
            "text/plain": [
              "[3880.240234375, 3880.240234375]"
            ]
          },
          "metadata": {
            "tags": []
          },
          "execution_count": 109
        }
      ]
    },
    {
      "cell_type": "code",
      "metadata": {
        "colab": {
          "base_uri": "https://localhost:8080/"
        },
        "id": "-qSFYf1-Yvcw",
        "outputId": "6deb4bcb-ef7f-40ba-af95-436c7a2dd26a"
      },
      "source": [
        "insurance_model_3.evaluate(x_test, y_test)"
      ],
      "execution_count": 112,
      "outputs": [
        {
          "output_type": "stream",
          "text": [
            "14/14 [==============================] - 0s 2ms/step - loss: 3429.4167 - mae: 3429.4167\n"
          ],
          "name": "stdout"
        },
        {
          "output_type": "execute_result",
          "data": {
            "text/plain": [
              "[3429.416748046875, 3429.416748046875]"
            ]
          },
          "metadata": {
            "tags": []
          },
          "execution_count": 112
        }
      ]
    },
    {
      "cell_type": "code",
      "metadata": {
        "colab": {
          "base_uri": "https://localhost:8080/"
        },
        "id": "zZnfEogSYyIV",
        "outputId": "3e73a6fe-8539-4099-cf99-851318a4e623"
      },
      "source": [
        "y_train.mean()"
      ],
      "execution_count": 111,
      "outputs": [
        {
          "output_type": "execute_result",
          "data": {
            "text/plain": [
              "13560.118576025663"
            ]
          },
          "metadata": {
            "tags": []
          },
          "execution_count": 111
        }
      ]
    },
    {
      "cell_type": "code",
      "metadata": {
        "colab": {
          "base_uri": "https://localhost:8080/",
          "height": 321
        },
        "id": "6Hzi58xRYzTw",
        "outputId": "955efba8-48bd-4d93-f77c-00d892c4ae86"
      },
      "source": [
        "pd.DataFrame(history.history).plot()\n",
        "plt.ylabel(\"loss\")\n",
        "plt.xlabel(\"epochs\")"
      ],
      "execution_count": 113,
      "outputs": [
        {
          "output_type": "execute_result",
          "data": {
            "text/plain": [
              "Text(0.5, 0, 'epochs')"
            ]
          },
          "metadata": {
            "tags": []
          },
          "execution_count": 113
        },
        {
          "output_type": "display_data",
          "data": {
            "image/png": "[encoded data removed]",
            "text/plain": [
              "<Figure size 432x288 with 1 Axes>"
            ]
          },
          "metadata": {
            "tags": []
          }
        }
      ]
    },
    {
      "cell_type": "code",
      "metadata": {
        "id": "Zk1YPqQWZT8H"
      },
      "source": [
        "callback = tf.keras.callbacks.EarlyStopping(monitor='loss', \n",
        "                                            patience=10)\n",
        "\n",
        "model_4 = tf.keras.Sequential([\n",
        "                               tf.keras.layers.Dense(100),\n",
        "                               tf.keras.layers.Dense(10),\n",
        "                               tf.keras.layers.Dense(1)\n",
        "]\n",
        ")\n",
        "\n",
        "model_4.compile(loss=tf.keras.losses.mae,\n",
        "                optimizer=tf.keras.optimizers.Adam(),\n",
        "              metrics=['mae'])\n",
        "\n"
      ],
      "execution_count": 116,
      "outputs": []
    },
    {
      "cell_type": "code",
      "metadata": {
        "id": "BthBXegLbp7h"
      },
      "source": [
        ""
      ],
      "execution_count": null,
      "outputs": []
    },
    {
      "cell_type": "code",
      "metadata": {
        "colab": {
          "base_uri": "https://localhost:8080/"
        },
        "id": "rYpeyHZWa6qN",
        "outputId": "2aecd1ba-d20a-4f4c-f0a5-d493e1d29b70"
      },
      "source": [
        "model_4.fit(x_train, y_train  , epochs=100)"
      ],
      "execution_count": 117,
      "outputs": [
        {
          "output_type": "stream",
          "text": [
            "Epoch 1/100\n",
            "28/28 [==============================] - 0s 2ms/step - loss: 13491.5986 - mae: 13491.5986\n",
            "Epoch 2/100\n",
            "28/28 [==============================] - 0s 1ms/step - loss: 13351.1943 - mae: 13351.1943\n",
            "Epoch 3/100\n",
            "28/28 [==============================] - 0s 1ms/step - loss: 13104.2236 - mae: 13104.2236\n",
            "Epoch 4/100\n",
            "28/28 [==============================] - 0s 1ms/step - loss: 12668.9443 - mae: 12668.9443\n",
            "Epoch 5/100\n",
            "28/28 [==============================] - 0s 1ms/step - loss: 11954.7129 - mae: 11954.7129\n",
            "Epoch 6/100\n",
            "28/28 [==============================] - 0s 1ms/step - loss: 10931.9795 - mae: 10931.9795\n",
            "Epoch 7/100\n",
            "28/28 [==============================] - 0s 1ms/step - loss: 9736.7686 - mae: 9736.7686\n",
            "Epoch 8/100\n",
            "28/28 [==============================] - 0s 1ms/step - loss: 8651.1465 - mae: 8651.1465\n",
            "Epoch 9/100\n",
            "28/28 [==============================] - 0s 2ms/step - loss: 7995.5166 - mae: 7995.5166\n",
            "Epoch 10/100\n",
            "28/28 [==============================] - 0s 1ms/step - loss: 7797.1519 - mae: 7797.1519\n",
            "Epoch 11/100\n",
            "28/28 [==============================] - 0s 1ms/step - loss: 7741.9614 - mae: 7741.9614\n",
            "Epoch 12/100\n",
            "28/28 [==============================] - 0s 1ms/step - loss: 7722.2690 - mae: 7722.2690\n",
            "Epoch 13/100\n",
            "28/28 [==============================] - 0s 2ms/step - loss: 7706.0264 - mae: 7706.0264\n",
            "Epoch 14/100\n",
            "28/28 [==============================] - 0s 1ms/step - loss: 7686.9761 - mae: 7686.9761\n",
            "Epoch 15/100\n",
            "28/28 [==============================] - 0s 2ms/step - loss: 7668.5361 - mae: 7668.5361\n",
            "Epoch 16/100\n",
            "28/28 [==============================] - 0s 1ms/step - loss: 7650.2407 - mae: 7650.2407\n",
            "Epoch 17/100\n",
            "28/28 [==============================] - 0s 2ms/step - loss: 7631.7158 - mae: 7631.7158\n",
            "Epoch 18/100\n",
            "28/28 [==============================] - 0s 2ms/step - loss: 7614.1138 - mae: 7614.1138\n",
            "Epoch 19/100\n",
            "28/28 [==============================] - 0s 1ms/step - loss: 7593.9077 - mae: 7593.9077\n",
            "Epoch 20/100\n",
            "28/28 [==============================] - 0s 1ms/step - loss: 7576.7617 - mae: 7576.7617\n",
            "Epoch 21/100\n",
            "28/28 [==============================] - 0s 1ms/step - loss: 7556.6538 - mae: 7556.6538\n",
            "Epoch 22/100\n",
            "28/28 [==============================] - 0s 1ms/step - loss: 7537.1382 - mae: 7537.1382\n",
            "Epoch 23/100\n",
            "28/28 [==============================] - 0s 2ms/step - loss: 7514.7944 - mae: 7514.7944\n",
            "Epoch 24/100\n",
            "28/28 [==============================] - 0s 1ms/step - loss: 7496.2798 - mae: 7496.2798\n",
            "Epoch 25/100\n",
            "28/28 [==============================] - 0s 1ms/step - loss: 7475.7681 - mae: 7475.7681\n",
            "Epoch 26/100\n",
            "28/28 [==============================] - 0s 2ms/step - loss: 7455.5132 - mae: 7455.5132\n",
            "Epoch 27/100\n",
            "28/28 [==============================] - 0s 1ms/step - loss: 7430.4170 - mae: 7430.4170\n",
            "Epoch 28/100\n",
            "28/28 [==============================] - 0s 1ms/step - loss: 7410.3579 - mae: 7410.3579\n",
            "Epoch 29/100\n",
            "28/28 [==============================] - 0s 2ms/step - loss: 7386.3032 - mae: 7386.3032\n",
            "Epoch 30/100\n",
            "28/28 [==============================] - 0s 1ms/step - loss: 7362.7280 - mae: 7362.7280\n",
            "Epoch 31/100\n",
            "28/28 [==============================] - 0s 1ms/step - loss: 7340.3696 - mae: 7340.3696\n",
            "Epoch 32/100\n",
            "28/28 [==============================] - 0s 2ms/step - loss: 7317.3701 - mae: 7317.3701\n",
            "Epoch 33/100\n",
            "28/28 [==============================] - 0s 1ms/step - loss: 7291.0376 - mae: 7291.0376\n",
            "Epoch 34/100\n",
            "28/28 [==============================] - 0s 1ms/step - loss: 7267.1997 - mae: 7267.1997\n",
            "Epoch 35/100\n",
            "28/28 [==============================] - 0s 1ms/step - loss: 7241.4790 - mae: 7241.4790\n",
            "Epoch 36/100\n",
            "28/28 [==============================] - 0s 2ms/step - loss: 7215.1646 - mae: 7215.1646\n",
            "Epoch 37/100\n",
            "28/28 [==============================] - 0s 1ms/step - loss: 7189.4189 - mae: 7189.4189\n",
            "Epoch 38/100\n",
            "28/28 [==============================] - 0s 1ms/step - loss: 7160.8672 - mae: 7160.8672\n",
            "Epoch 39/100\n",
            "28/28 [==============================] - 0s 1ms/step - loss: 7135.2925 - mae: 7135.2925\n",
            "Epoch 40/100\n",
            "28/28 [==============================] - 0s 1ms/step - loss: 7105.2114 - mae: 7105.2114\n",
            "Epoch 41/100\n",
            "28/28 [==============================] - 0s 1ms/step - loss: 7075.2690 - mae: 7075.2690\n",
            "Epoch 42/100\n",
            "28/28 [==============================] - 0s 1ms/step - loss: 7044.6626 - mae: 7044.6626\n",
            "Epoch 43/100\n",
            "28/28 [==============================] - 0s 1ms/step - loss: 7014.9741 - mae: 7014.9741\n",
            "Epoch 44/100\n",
            "28/28 [==============================] - 0s 2ms/step - loss: 6983.5122 - mae: 6983.5122\n",
            "Epoch 45/100\n",
            "28/28 [==============================] - 0s 1ms/step - loss: 6953.2544 - mae: 6953.2544\n",
            "Epoch 46/100\n",
            "28/28 [==============================] - 0s 1ms/step - loss: 6924.0518 - mae: 6924.0518\n",
            "Epoch 47/100\n",
            "28/28 [==============================] - 0s 1ms/step - loss: 6893.0024 - mae: 6893.0024\n",
            "Epoch 48/100\n",
            "28/28 [==============================] - 0s 1ms/step - loss: 6866.5186 - mae: 6866.5186\n",
            "Epoch 49/100\n",
            "28/28 [==============================] - 0s 2ms/step - loss: 6842.1094 - mae: 6842.1094\n",
            "Epoch 50/100\n",
            "28/28 [==============================] - 0s 1ms/step - loss: 6821.7783 - mae: 6821.7783\n",
            "Epoch 51/100\n",
            "28/28 [==============================] - 0s 2ms/step - loss: 6804.6177 - mae: 6804.6177\n",
            "Epoch 52/100\n",
            "28/28 [==============================] - 0s 1ms/step - loss: 6787.7700 - mae: 6787.7700\n",
            "Epoch 53/100\n",
            "28/28 [==============================] - 0s 1ms/step - loss: 6776.0620 - mae: 6776.0620\n",
            "Epoch 54/100\n",
            "28/28 [==============================] - 0s 2ms/step - loss: 6769.0884 - mae: 6769.0884\n",
            "Epoch 55/100\n",
            "28/28 [==============================] - 0s 2ms/step - loss: 6747.6392 - mae: 6747.6392\n",
            "Epoch 56/100\n",
            "28/28 [==============================] - 0s 2ms/step - loss: 6736.2861 - mae: 6736.2861\n",
            "Epoch 57/100\n",
            "28/28 [==============================] - 0s 2ms/step - loss: 6723.7256 - mae: 6723.7256\n",
            "Epoch 58/100\n",
            "28/28 [==============================] - 0s 2ms/step - loss: 6711.3374 - mae: 6711.3374\n",
            "Epoch 59/100\n",
            "28/28 [==============================] - 0s 2ms/step - loss: 6700.9429 - mae: 6700.9429\n",
            "Epoch 60/100\n",
            "28/28 [==============================] - 0s 1ms/step - loss: 6685.0806 - mae: 6685.0806\n",
            "Epoch 61/100\n",
            "28/28 [==============================] - 0s 1ms/step - loss: 6673.2695 - mae: 6673.2695\n",
            "Epoch 62/100\n",
            "28/28 [==============================] - 0s 1ms/step - loss: 6662.1567 - mae: 6662.1567\n",
            "Epoch 63/100\n",
            "28/28 [==============================] - 0s 2ms/step - loss: 6652.0532 - mae: 6652.0532\n",
            "Epoch 64/100\n",
            "28/28 [==============================] - 0s 2ms/step - loss: 6637.7368 - mae: 6637.7368\n",
            "Epoch 65/100\n",
            "28/28 [==============================] - 0s 1ms/step - loss: 6621.8921 - mae: 6621.8921\n",
            "Epoch 66/100\n",
            "28/28 [==============================] - 0s 1ms/step - loss: 6613.1382 - mae: 6613.1382\n",
            "Epoch 67/100\n",
            "28/28 [==============================] - 0s 2ms/step - loss: 6597.3442 - mae: 6597.3442\n",
            "Epoch 68/100\n",
            "28/28 [==============================] - 0s 2ms/step - loss: 6581.7310 - mae: 6581.7310\n",
            "Epoch 69/100\n",
            "28/28 [==============================] - 0s 2ms/step - loss: 6571.8916 - mae: 6571.8916\n",
            "Epoch 70/100\n",
            "28/28 [==============================] - 0s 1ms/step - loss: 6558.2837 - mae: 6558.2837\n",
            "Epoch 71/100\n",
            "28/28 [==============================] - 0s 1ms/step - loss: 6540.7935 - mae: 6540.7935\n",
            "Epoch 72/100\n",
            "28/28 [==============================] - 0s 1ms/step - loss: 6527.6382 - mae: 6527.6382\n",
            "Epoch 73/100\n",
            "28/28 [==============================] - 0s 1ms/step - loss: 6517.0576 - mae: 6517.0576\n",
            "Epoch 74/100\n",
            "28/28 [==============================] - 0s 1ms/step - loss: 6497.0117 - mae: 6497.0117\n",
            "Epoch 75/100\n",
            "28/28 [==============================] - 0s 1ms/step - loss: 6482.6318 - mae: 6482.6318\n",
            "Epoch 76/100\n",
            "28/28 [==============================] - 0s 2ms/step - loss: 6463.9438 - mae: 6463.9438\n",
            "Epoch 77/100\n",
            "28/28 [==============================] - 0s 1ms/step - loss: 6448.3071 - mae: 6448.3071\n",
            "Epoch 78/100\n",
            "28/28 [==============================] - 0s 2ms/step - loss: 6432.8784 - mae: 6432.8784\n",
            "Epoch 79/100\n",
            "28/28 [==============================] - 0s 1ms/step - loss: 6417.1768 - mae: 6417.1768\n",
            "Epoch 80/100\n",
            "28/28 [==============================] - 0s 1ms/step - loss: 6401.5127 - mae: 6401.5127\n",
            "Epoch 81/100\n",
            "28/28 [==============================] - 0s 2ms/step - loss: 6382.5479 - mae: 6382.5479\n",
            "Epoch 82/100\n",
            "28/28 [==============================] - 0s 1ms/step - loss: 6364.1304 - mae: 6364.1304\n",
            "Epoch 83/100\n",
            "28/28 [==============================] - 0s 1ms/step - loss: 6344.0586 - mae: 6344.0586\n",
            "Epoch 84/100\n",
            "28/28 [==============================] - 0s 2ms/step - loss: 6328.9150 - mae: 6328.9150\n",
            "Epoch 85/100\n",
            "28/28 [==============================] - 0s 1ms/step - loss: 6307.5815 - mae: 6307.5815\n",
            "Epoch 86/100\n",
            "28/28 [==============================] - 0s 1ms/step - loss: 6286.4336 - mae: 6286.4336\n",
            "Epoch 87/100\n",
            "28/28 [==============================] - 0s 2ms/step - loss: 6269.0693 - mae: 6269.0693\n",
            "Epoch 88/100\n",
            "28/28 [==============================] - 0s 1ms/step - loss: 6248.2866 - mae: 6248.2866\n",
            "Epoch 89/100\n",
            "28/28 [==============================] - 0s 2ms/step - loss: 6225.2256 - mae: 6225.2256\n",
            "Epoch 90/100\n",
            "28/28 [==============================] - 0s 1ms/step - loss: 6202.1646 - mae: 6202.1646\n",
            "Epoch 91/100\n",
            "28/28 [==============================] - 0s 2ms/step - loss: 6182.2549 - mae: 6182.2549\n",
            "Epoch 92/100\n",
            "28/28 [==============================] - 0s 1ms/step - loss: 6158.4771 - mae: 6158.4771\n",
            "Epoch 93/100\n",
            "28/28 [==============================] - 0s 2ms/step - loss: 6130.5513 - mae: 6130.5513\n",
            "Epoch 94/100\n",
            "28/28 [==============================] - 0s 2ms/step - loss: 6107.9272 - mae: 6107.9272\n",
            "Epoch 95/100\n",
            "28/28 [==============================] - 0s 2ms/step - loss: 6082.2769 - mae: 6082.2769\n",
            "Epoch 96/100\n",
            "28/28 [==============================] - 0s 1ms/step - loss: 6053.0815 - mae: 6053.0815\n",
            "Epoch 97/100\n",
            "28/28 [==============================] - 0s 1ms/step - loss: 6028.3413 - mae: 6028.3413\n",
            "Epoch 98/100\n",
            "28/28 [==============================] - 0s 2ms/step - loss: 5996.8369 - mae: 5996.8369\n",
            "Epoch 99/100\n",
            "28/28 [==============================] - 0s 1ms/step - loss: 5967.9678 - mae: 5967.9678\n",
            "Epoch 100/100\n",
            "28/28 [==============================] - 0s 2ms/step - loss: 5930.3906 - mae: 5930.3906\n"
          ],
          "name": "stdout"
        },
        {
          "output_type": "execute_result",
          "data": {
            "text/plain": [
              "<tensorflow.python.keras.callbacks.History at 0x7fe4deb38790>"
            ]
          },
          "metadata": {
            "tags": []
          },
          "execution_count": 117
        }
      ]
    },
    {
      "cell_type": "code",
      "metadata": {
        "colab": {
          "base_uri": "https://localhost:8080/",
          "height": 439
        },
        "id": "nBkMlVJPbGIt",
        "outputId": "547a6578-b4f8-42c1-e3e0-bd9139eba871"
      },
      "source": [
        "x"
      ],
      "execution_count": 118,
      "outputs": [
        {
          "output_type": "execute_result",
          "data": {
            "text/html": [
              "<div>\n",
              "<style scoped>\n",
              "    .dataframe tbody tr th:only-of-type {\n",
              "        vertical-align: middle;\n",
              "    }\n",
              "\n",
              "    .dataframe tbody tr th {\n",
              "        vertical-align: top;\n",
              "    }\n",
              "\n",
              "    .dataframe thead th {\n",
              "        text-align: right;\n",
              "    }\n",
              "</style>\n",
              "<table border=\"1\" class=\"dataframe\">\n",
              "  <thead>\n",
              "    <tr style=\"text-align: right;\">\n",
              "      <th></th>\n",
              "      <th>age</th>\n",
              "      <th>bmi</th>\n",
              "      <th>children</th>\n",
              "      <th>sex_female</th>\n",
              "      <th>sex_male</th>\n",
              "      <th>smoker_no</th>\n",
              "      <th>smoker_yes</th>\n",
              "      <th>region_northeast</th>\n",
              "      <th>region_northwest</th>\n",
              "      <th>region_southeast</th>\n",
              "      <th>region_southwest</th>\n",
              "    </tr>\n",
              "  </thead>\n",
              "  <tbody>\n",
              "    <tr>\n",
              "      <th>0</th>\n",
              "      <td>19</td>\n",
              "      <td>27.900</td>\n",
              "      <td>0</td>\n",
              "      <td>1</td>\n",
              "      <td>0</td>\n",
              "      <td>0</td>\n",
              "      <td>1</td>\n",
              "      <td>0</td>\n",
              "      <td>0</td>\n",
              "      <td>0</td>\n",
              "      <td>1</td>\n",
              "    </tr>\n",
              "    <tr>\n",
              "      <th>1</th>\n",
              "      <td>18</td>\n",
              "      <td>33.770</td>\n",
              "      <td>1</td>\n",
              "      <td>0</td>\n",
              "      <td>1</td>\n",
              "      <td>1</td>\n",
              "      <td>0</td>\n",
              "      <td>0</td>\n",
              "      <td>0</td>\n",
              "      <td>1</td>\n",
              "      <td>0</td>\n",
              "    </tr>\n",
              "    <tr>\n",
              "      <th>2</th>\n",
              "      <td>28</td>\n",
              "      <td>33.000</td>\n",
              "      <td>3</td>\n",
              "      <td>0</td>\n",
              "      <td>1</td>\n",
              "      <td>1</td>\n",
              "      <td>0</td>\n",
              "      <td>0</td>\n",
              "      <td>0</td>\n",
              "      <td>1</td>\n",
              "      <td>0</td>\n",
              "    </tr>\n",
              "    <tr>\n",
              "      <th>3</th>\n",
              "      <td>33</td>\n",
              "      <td>22.705</td>\n",
              "      <td>0</td>\n",
              "      <td>0</td>\n",
              "      <td>1</td>\n",
              "      <td>1</td>\n",
              "      <td>0</td>\n",
              "      <td>0</td>\n",
              "      <td>1</td>\n",
              "      <td>0</td>\n",
              "      <td>0</td>\n",
              "    </tr>\n",
              "    <tr>\n",
              "      <th>4</th>\n",
              "      <td>32</td>\n",
              "      <td>28.880</td>\n",
              "      <td>0</td>\n",
              "      <td>0</td>\n",
              "      <td>1</td>\n",
              "      <td>1</td>\n",
              "      <td>0</td>\n",
              "      <td>0</td>\n",
              "      <td>1</td>\n",
              "      <td>0</td>\n",
              "      <td>0</td>\n",
              "    </tr>\n",
              "    <tr>\n",
              "      <th>...</th>\n",
              "      <td>...</td>\n",
              "      <td>...</td>\n",
              "      <td>...</td>\n",
              "      <td>...</td>\n",
              "      <td>...</td>\n",
              "      <td>...</td>\n",
              "      <td>...</td>\n",
              "      <td>...</td>\n",
              "      <td>...</td>\n",
              "      <td>...</td>\n",
              "      <td>...</td>\n",
              "    </tr>\n",
              "    <tr>\n",
              "      <th>1333</th>\n",
              "      <td>50</td>\n",
              "      <td>30.970</td>\n",
              "      <td>3</td>\n",
              "      <td>0</td>\n",
              "      <td>1</td>\n",
              "      <td>1</td>\n",
              "      <td>0</td>\n",
              "      <td>0</td>\n",
              "      <td>1</td>\n",
              "      <td>0</td>\n",
              "      <td>0</td>\n",
              "    </tr>\n",
              "    <tr>\n",
              "      <th>1334</th>\n",
              "      <td>18</td>\n",
              "      <td>31.920</td>\n",
              "      <td>0</td>\n",
              "      <td>1</td>\n",
              "      <td>0</td>\n",
              "      <td>1</td>\n",
              "      <td>0</td>\n",
              "      <td>1</td>\n",
              "      <td>0</td>\n",
              "      <td>0</td>\n",
              "      <td>0</td>\n",
              "    </tr>\n",
              "    <tr>\n",
              "      <th>1335</th>\n",
              "      <td>18</td>\n",
              "      <td>36.850</td>\n",
              "      <td>0</td>\n",
              "      <td>1</td>\n",
              "      <td>0</td>\n",
              "      <td>1</td>\n",
              "      <td>0</td>\n",
              "      <td>0</td>\n",
              "      <td>0</td>\n",
              "      <td>1</td>\n",
              "      <td>0</td>\n",
              "    </tr>\n",
              "    <tr>\n",
              "      <th>1336</th>\n",
              "      <td>21</td>\n",
              "      <td>25.800</td>\n",
              "      <td>0</td>\n",
              "      <td>1</td>\n",
              "      <td>0</td>\n",
              "      <td>1</td>\n",
              "      <td>0</td>\n",
              "      <td>0</td>\n",
              "      <td>0</td>\n",
              "      <td>0</td>\n",
              "      <td>1</td>\n",
              "    </tr>\n",
              "    <tr>\n",
              "      <th>1337</th>\n",
              "      <td>61</td>\n",
              "      <td>29.070</td>\n",
              "      <td>0</td>\n",
              "      <td>1</td>\n",
              "      <td>0</td>\n",
              "      <td>0</td>\n",
              "      <td>1</td>\n",
              "      <td>0</td>\n",
              "      <td>1</td>\n",
              "      <td>0</td>\n",
              "      <td>0</td>\n",
              "    </tr>\n",
              "  </tbody>\n",
              "</table>\n",
              "<p>1338 rows × 11 columns</p>\n",
              "</div>"
            ],
            "text/plain": [
              "      age     bmi  ...  region_southeast  region_southwest\n",
              "0      19  27.900  ...                 0                 1\n",
              "1      18  33.770  ...                 1                 0\n",
              "2      28  33.000  ...                 1                 0\n",
              "3      33  22.705  ...                 0                 0\n",
              "4      32  28.880  ...                 0                 0\n",
              "...   ...     ...  ...               ...               ...\n",
              "1333   50  30.970  ...                 0                 0\n",
              "1334   18  31.920  ...                 0                 0\n",
              "1335   18  36.850  ...                 1                 0\n",
              "1336   21  25.800  ...                 0                 1\n",
              "1337   61  29.070  ...                 0                 0\n",
              "\n",
              "[1338 rows x 11 columns]"
            ]
          },
          "metadata": {
            "tags": []
          },
          "execution_count": 118
        }
      ]
    },
    {
      "cell_type": "code",
      "metadata": {
        "colab": {
          "base_uri": "https://localhost:8080/",
          "height": 299
        },
        "id": "_i5BF70hcKYg",
        "outputId": "e42ee910-c303-4496-ba9f-7b89a2b232fd"
      },
      "source": [
        "x['age'].plot(kind='hist')"
      ],
      "execution_count": 119,
      "outputs": [
        {
          "output_type": "execute_result",
          "data": {
            "text/plain": [
              "<matplotlib.axes._subplots.AxesSubplot at 0x7fe4deb3e9d0>"
            ]
          },
          "metadata": {
            "tags": []
          },
          "execution_count": 119
        },
        {
          "output_type": "display_data",
          "data": {
            "image/png": "[encoded data removed]",
            "text/plain": [
              "<Figure size 432x288 with 1 Axes>"
            ]
          },
          "metadata": {
            "tags": []
          }
        }
      ]
    },
    {
      "cell_type": "code",
      "metadata": {
        "colab": {
          "base_uri": "https://localhost:8080/",
          "height": 299
        },
        "id": "AemjtViycOm1",
        "outputId": "3e920af5-e14d-42c5-97d9-b9450ce27371"
      },
      "source": [
        "x['bmi'].plot(kind='hist')"
      ],
      "execution_count": 120,
      "outputs": [
        {
          "output_type": "execute_result",
          "data": {
            "text/plain": [
              "<matplotlib.axes._subplots.AxesSubplot at 0x7fe4de1940d0>"
            ]
          },
          "metadata": {
            "tags": []
          },
          "execution_count": 120
        },
        {
          "output_type": "display_data",
          "data": {
            "image/png": "[encoded data removed]",
            "text/plain": [
              "<Figure size 432x288 with 1 Axes>"
            ]
          },
          "metadata": {
            "tags": []
          }
        }
      ]
    },
    {
      "cell_type": "code",
      "metadata": {
        "id": "FtYBk7jRcRdt"
      },
      "source": [
        "df = pd.read_csv('https://gist.githubusercontent.com/meperezcuello/82a9f1c1c473d6585e750ad2e3c05a41/raw/d42d226d0dd64e7f5395a0eec1b9190a10edbc03/Medical_Cost.csv')"
      ],
      "execution_count": 121,
      "outputs": []
    },
    {
      "cell_type": "code",
      "metadata": {
        "colab": {
          "base_uri": "https://localhost:8080/",
          "height": 204
        },
        "id": "La3INTNjfohs",
        "outputId": "daea4104-6014-433a-fdd3-5ac4cd6f8b7c"
      },
      "source": [
        "df.head()"
      ],
      "execution_count": 122,
      "outputs": [
        {
          "output_type": "execute_result",
          "data": {
            "text/html": [
              "<div>\n",
              "<style scoped>\n",
              "    .dataframe tbody tr th:only-of-type {\n",
              "        vertical-align: middle;\n",
              "    }\n",
              "\n",
              "    .dataframe tbody tr th {\n",
              "        vertical-align: top;\n",
              "    }\n",
              "\n",
              "    .dataframe thead th {\n",
              "        text-align: right;\n",
              "    }\n",
              "</style>\n",
              "<table border=\"1\" class=\"dataframe\">\n",
              "  <thead>\n",
              "    <tr style=\"text-align: right;\">\n",
              "      <th></th>\n",
              "      <th>age</th>\n",
              "      <th>sex</th>\n",
              "      <th>bmi</th>\n",
              "      <th>children</th>\n",
              "      <th>smoker</th>\n",
              "      <th>region</th>\n",
              "      <th>charges</th>\n",
              "    </tr>\n",
              "  </thead>\n",
              "  <tbody>\n",
              "    <tr>\n",
              "      <th>0</th>\n",
              "      <td>19</td>\n",
              "      <td>female</td>\n",
              "      <td>27.900</td>\n",
              "      <td>0</td>\n",
              "      <td>yes</td>\n",
              "      <td>southwest</td>\n",
              "      <td>16884.92400</td>\n",
              "    </tr>\n",
              "    <tr>\n",
              "      <th>1</th>\n",
              "      <td>18</td>\n",
              "      <td>male</td>\n",
              "      <td>33.770</td>\n",
              "      <td>1</td>\n",
              "      <td>no</td>\n",
              "      <td>southeast</td>\n",
              "      <td>1725.55230</td>\n",
              "    </tr>\n",
              "    <tr>\n",
              "      <th>2</th>\n",
              "      <td>28</td>\n",
              "      <td>male</td>\n",
              "      <td>33.000</td>\n",
              "      <td>3</td>\n",
              "      <td>no</td>\n",
              "      <td>southeast</td>\n",
              "      <td>4449.46200</td>\n",
              "    </tr>\n",
              "    <tr>\n",
              "      <th>3</th>\n",
              "      <td>33</td>\n",
              "      <td>male</td>\n",
              "      <td>22.705</td>\n",
              "      <td>0</td>\n",
              "      <td>no</td>\n",
              "      <td>northwest</td>\n",
              "      <td>21984.47061</td>\n",
              "    </tr>\n",
              "    <tr>\n",
              "      <th>4</th>\n",
              "      <td>32</td>\n",
              "      <td>male</td>\n",
              "      <td>28.880</td>\n",
              "      <td>0</td>\n",
              "      <td>no</td>\n",
              "      <td>northwest</td>\n",
              "      <td>3866.85520</td>\n",
              "    </tr>\n",
              "  </tbody>\n",
              "</table>\n",
              "</div>"
            ],
            "text/plain": [
              "   age     sex     bmi  children smoker     region      charges\n",
              "0   19  female  27.900         0    yes  southwest  16884.92400\n",
              "1   18    male  33.770         1     no  southeast   1725.55230\n",
              "2   28    male  33.000         3     no  southeast   4449.46200\n",
              "3   33    male  22.705         0     no  northwest  21984.47061\n",
              "4   32    male  28.880         0     no  northwest   3866.85520"
            ]
          },
          "metadata": {
            "tags": []
          },
          "execution_count": 122
        }
      ]
    },
    {
      "cell_type": "code",
      "metadata": {
        "id": "hEwzwgDcgPq7"
      },
      "source": [
        ""
      ],
      "execution_count": null,
      "outputs": []
    },
    {
      "cell_type": "code",
      "metadata": {
        "id": "_OiTQ4JUfqJO"
      },
      "source": [
        "from sklearn.compose import make_column_transformer\n",
        "from sklearn.preprocessing import MinMaxScaler , OneHotEncoder\n",
        "\n"
      ],
      "execution_count": 123,
      "outputs": []
    },
    {
      "cell_type": "code",
      "metadata": {
        "id": "Gn_f90YTf1ex"
      },
      "source": [
        "#create a column transformer\n",
        "ct = make_column_transformer(\n",
        "    (MinMaxScaler() , ['age', 'bmi', 'children']),\n",
        "     (OneHotEncoder(handle_unknown='ignore'), ['sex', 'smoker', 'region'])\n",
        "    ,)"
      ],
      "execution_count": 130,
      "outputs": []
    },
    {
      "cell_type": "code",
      "metadata": {
        "id": "07SoEYxNgfZE"
      },
      "source": [
        "#create x and y\n",
        "x = insurance.drop(\"charges\", axis=1)\n",
        "y = insurance[\"charges\"]"
      ],
      "execution_count": 131,
      "outputs": []
    },
    {
      "cell_type": "code",
      "metadata": {
        "id": "wK4QQQlQhPG4"
      },
      "source": [
        "from sklearn.model_selection import train_test_split\n",
        "x_train , x_test, y_train, y_test = train_test_split(x, y, test_size=0.2,\n",
        "                                                     random_state=42)\n",
        "\n",
        "#fit the column transformer to our training data\n",
        "ct.fit(x_train)\n",
        "\n",
        "#transform training and test data with normalization (MinMaxscaler) and onehotencoder\n",
        "x_train_normal = ct.transform(x_train)\n",
        "x_test_normal = ct.transform(x_test)"
      ],
      "execution_count": 132,
      "outputs": []
    },
    {
      "cell_type": "code",
      "metadata": {
        "colab": {
          "base_uri": "https://localhost:8080/",
          "height": 299
        },
        "id": "ISx7X35AiLEf",
        "outputId": "2ca252e7-a8fb-4c94-c8c6-c1aaf524877a"
      },
      "source": [
        "x['age'].plot(kind='hist')"
      ],
      "execution_count": 133,
      "outputs": [
        {
          "output_type": "execute_result",
          "data": {
            "text/plain": [
              "<matplotlib.axes._subplots.AxesSubplot at 0x7fe4de0fb890>"
            ]
          },
          "metadata": {
            "tags": []
          },
          "execution_count": 133
        },
        {
          "output_type": "display_data",
          "data": {
            "image/png": "[encoded data removed]",
            "text/plain": [
              "<Figure size 432x288 with 1 Axes>"
            ]
          },
          "metadata": {
            "tags": []
          }
        }
      ]
    },
    {
      "cell_type": "code",
      "metadata": {
        "colab": {
          "base_uri": "https://localhost:8080/"
        },
        "id": "PkAS_dX3iVGT",
        "outputId": "657a22fd-fe71-4756-c2bf-78e593fc1034"
      },
      "source": [
        "x_train.loc[0]"
      ],
      "execution_count": 134,
      "outputs": [
        {
          "output_type": "execute_result",
          "data": {
            "text/plain": [
              "age                19\n",
              "sex            female\n",
              "bmi              27.9\n",
              "children            0\n",
              "smoker            yes\n",
              "region      southwest\n",
              "Name: 0, dtype: object"
            ]
          },
          "metadata": {
            "tags": []
          },
          "execution_count": 134
        }
      ]
    },
    {
      "cell_type": "markdown",
      "metadata": {
        "id": "C21PBeHYimku"
      },
      "source": [
        "\n",
        "\n",
        "1.   List item\n",
        "2.   List item\n",
        "\n"
      ]
    },
    {
      "cell_type": "code",
      "metadata": {
        "colab": {
          "base_uri": "https://localhost:8080/"
        },
        "id": "3nRsaTBYil0Y",
        "outputId": "b1c07b54-5d70-4b97-aeb4-5aa3eaa46d9f"
      },
      "source": [
        "x_train_normal[0]"
      ],
      "execution_count": 136,
      "outputs": [
        {
          "output_type": "execute_result",
          "data": {
            "text/plain": [
              "array([0.60869565, 0.10734463, 0.4       , 1.        , 0.        ,\n",
              "       1.        , 0.        , 0.        , 1.        , 0.        ,\n",
              "       0.        ])"
            ]
          },
          "metadata": {
            "tags": []
          },
          "execution_count": 136
        }
      ]
    },
    {
      "cell_type": "code",
      "metadata": {
        "colab": {
          "base_uri": "https://localhost:8080/"
        },
        "id": "tRrYRfMSio6Y",
        "outputId": "a218420d-d938-4a68-d05d-390991db1b6b"
      },
      "source": [
        "tf.random.set_seed(42)\n",
        "\n",
        "model_5 = tf.keras.Sequential([\n",
        "                               tf.keras.layers.Dense(100),\n",
        "                               tf.keras.layers.Dense(10),\n",
        "                               tf.keras.layers.Dense(1),\n",
        "])\n",
        "\n",
        "model_5.compile(loss=tf.keras.losses.mae,\n",
        "                optimizer = tf.keras.optimizers.Adam(),\n",
        "                metrics = ['mae'])\n",
        "\n",
        "model_5.fit(x_train_normal, y_train, epochs=100)"
      ],
      "execution_count": 139,
      "outputs": [
        {
          "output_type": "stream",
          "text": [
            "Epoch 1/100\n",
            "34/34 [==============================] - 0s 1ms/step - loss: 13342.6475 - mae: 13342.6475\n",
            "Epoch 2/100\n",
            "34/34 [==============================] - 0s 1ms/step - loss: 13333.4785 - mae: 13333.4785\n",
            "Epoch 3/100\n",
            "34/34 [==============================] - 0s 1ms/step - loss: 13312.0234 - mae: 13312.0234\n",
            "Epoch 4/100\n",
            "34/34 [==============================] - 0s 1ms/step - loss: 13267.7930 - mae: 13267.7930\n",
            "Epoch 5/100\n",
            "34/34 [==============================] - 0s 1ms/step - loss: 13189.5850 - mae: 13189.5850\n",
            "Epoch 6/100\n",
            "34/34 [==============================] - 0s 2ms/step - loss: 13066.4502 - mae: 13066.4502\n",
            "Epoch 7/100\n",
            "34/34 [==============================] - 0s 2ms/step - loss: 12888.1953 - mae: 12888.1953\n",
            "Epoch 8/100\n",
            "34/34 [==============================] - 0s 1ms/step - loss: 12644.6523 - mae: 12644.6523\n",
            "Epoch 9/100\n",
            "34/34 [==============================] - 0s 2ms/step - loss: 12325.5469 - mae: 12325.5469\n",
            "Epoch 10/100\n",
            "34/34 [==============================] - 0s 1ms/step - loss: 11925.9658 - mae: 11925.9658\n",
            "Epoch 11/100\n",
            "34/34 [==============================] - 0s 2ms/step - loss: 11454.3350 - mae: 11454.3350\n",
            "Epoch 12/100\n",
            "34/34 [==============================] - 0s 2ms/step - loss: 10949.8086 - mae: 10949.8086\n",
            "Epoch 13/100\n",
            "34/34 [==============================] - 0s 2ms/step - loss: 10448.9404 - mae: 10448.9404\n",
            "Epoch 14/100\n",
            "34/34 [==============================] - 0s 1ms/step - loss: 9951.6250 - mae: 9951.6250\n",
            "Epoch 15/100\n",
            "34/34 [==============================] - 0s 1ms/step - loss: 9482.7422 - mae: 9482.7422\n",
            "Epoch 16/100\n",
            "34/34 [==============================] - 0s 2ms/step - loss: 9066.7461 - mae: 9066.7461\n",
            "Epoch 17/100\n",
            "34/34 [==============================] - 0s 2ms/step - loss: 8721.9854 - mae: 8721.9854\n",
            "Epoch 18/100\n",
            "34/34 [==============================] - 0s 1ms/step - loss: 8441.2002 - mae: 8441.2002\n",
            "Epoch 19/100\n",
            "34/34 [==============================] - 0s 1ms/step - loss: 8227.5117 - mae: 8227.5117\n",
            "Epoch 20/100\n",
            "34/34 [==============================] - 0s 1ms/step - loss: 8081.9775 - mae: 8081.9775\n",
            "Epoch 21/100\n",
            "34/34 [==============================] - 0s 1ms/step - loss: 7973.8945 - mae: 7973.8945\n",
            "Epoch 22/100\n",
            "34/34 [==============================] - 0s 1ms/step - loss: 7899.1597 - mae: 7899.1597\n",
            "Epoch 23/100\n",
            "34/34 [==============================] - 0s 1ms/step - loss: 7840.3916 - mae: 7840.3916\n",
            "Epoch 24/100\n",
            "34/34 [==============================] - 0s 1ms/step - loss: 7787.9619 - mae: 7787.9619\n",
            "Epoch 25/100\n",
            "34/34 [==============================] - 0s 1ms/step - loss: 7749.2622 - mae: 7749.2622\n",
            "Epoch 26/100\n",
            "34/34 [==============================] - 0s 2ms/step - loss: 7697.9595 - mae: 7697.9595\n",
            "Epoch 27/100\n",
            "34/34 [==============================] - 0s 1ms/step - loss: 7656.0273 - mae: 7656.0273\n",
            "Epoch 28/100\n",
            "34/34 [==============================] - 0s 1ms/step - loss: 7613.4780 - mae: 7613.4780\n",
            "Epoch 29/100\n",
            "34/34 [==============================] - 0s 1ms/step - loss: 7570.9482 - mae: 7570.9482\n",
            "Epoch 30/100\n",
            "34/34 [==============================] - 0s 1ms/step - loss: 7527.4175 - mae: 7527.4175\n",
            "Epoch 31/100\n",
            "34/34 [==============================] - 0s 2ms/step - loss: 7483.5947 - mae: 7483.5947\n",
            "Epoch 32/100\n",
            "34/34 [==============================] - 0s 1ms/step - loss: 7439.4424 - mae: 7439.4424\n",
            "Epoch 33/100\n",
            "34/34 [==============================] - 0s 1ms/step - loss: 7395.0552 - mae: 7395.0552\n",
            "Epoch 34/100\n",
            "34/34 [==============================] - 0s 1ms/step - loss: 7346.8125 - mae: 7346.8125\n",
            "Epoch 35/100\n",
            "34/34 [==============================] - 0s 1ms/step - loss: 7300.0493 - mae: 7300.0493\n",
            "Epoch 36/100\n",
            "34/34 [==============================] - 0s 1ms/step - loss: 7249.8452 - mae: 7249.8452\n",
            "Epoch 37/100\n",
            "34/34 [==============================] - 0s 1ms/step - loss: 7199.5303 - mae: 7199.5303\n",
            "Epoch 38/100\n",
            "34/34 [==============================] - 0s 1ms/step - loss: 7148.4805 - mae: 7148.4805\n",
            "Epoch 39/100\n",
            "34/34 [==============================] - 0s 1ms/step - loss: 7093.6660 - mae: 7093.6660\n",
            "Epoch 40/100\n",
            "34/34 [==============================] - 0s 1ms/step - loss: 7038.1797 - mae: 7038.1797\n",
            "Epoch 41/100\n",
            "34/34 [==============================] - 0s 1ms/step - loss: 6981.7393 - mae: 6981.7393\n",
            "Epoch 42/100\n",
            "34/34 [==============================] - 0s 1ms/step - loss: 6922.7847 - mae: 6922.7847\n",
            "Epoch 43/100\n",
            "34/34 [==============================] - 0s 1ms/step - loss: 6860.1724 - mae: 6860.1724\n",
            "Epoch 44/100\n",
            "34/34 [==============================] - 0s 2ms/step - loss: 6793.7979 - mae: 6793.7979\n",
            "Epoch 45/100\n",
            "34/34 [==============================] - 0s 1ms/step - loss: 6726.6201 - mae: 6726.6201\n",
            "Epoch 46/100\n",
            "34/34 [==============================] - 0s 1ms/step - loss: 6657.4683 - mae: 6657.4683\n",
            "Epoch 47/100\n",
            "34/34 [==============================] - 0s 1ms/step - loss: 6586.3086 - mae: 6586.3086\n",
            "Epoch 48/100\n",
            "34/34 [==============================] - 0s 2ms/step - loss: 6507.5063 - mae: 6507.5063\n",
            "Epoch 49/100\n",
            "34/34 [==============================] - 0s 1ms/step - loss: 6428.6025 - mae: 6428.6025\n",
            "Epoch 50/100\n",
            "34/34 [==============================] - 0s 2ms/step - loss: 6342.7100 - mae: 6342.7100\n",
            "Epoch 51/100\n",
            "34/34 [==============================] - 0s 1ms/step - loss: 6258.0718 - mae: 6258.0718\n",
            "Epoch 52/100\n",
            "34/34 [==============================] - 0s 2ms/step - loss: 6164.7046 - mae: 6164.7046\n",
            "Epoch 53/100\n",
            "34/34 [==============================] - 0s 2ms/step - loss: 6068.6748 - mae: 6068.6748\n",
            "Epoch 54/100\n",
            "34/34 [==============================] - 0s 1ms/step - loss: 5970.0981 - mae: 5970.0981\n",
            "Epoch 55/100\n",
            "34/34 [==============================] - 0s 2ms/step - loss: 5862.5625 - mae: 5862.5625\n",
            "Epoch 56/100\n",
            "34/34 [==============================] - 0s 1ms/step - loss: 5753.9531 - mae: 5753.9531\n",
            "Epoch 57/100\n",
            "34/34 [==============================] - 0s 1ms/step - loss: 5638.0942 - mae: 5638.0942\n",
            "Epoch 58/100\n",
            "34/34 [==============================] - 0s 2ms/step - loss: 5519.8687 - mae: 5519.8687\n",
            "Epoch 59/100\n",
            "34/34 [==============================] - 0s 2ms/step - loss: 5401.3198 - mae: 5401.3198\n",
            "Epoch 60/100\n",
            "34/34 [==============================] - 0s 2ms/step - loss: 5277.3506 - mae: 5277.3506\n",
            "Epoch 61/100\n",
            "34/34 [==============================] - 0s 1ms/step - loss: 5149.7642 - mae: 5149.7642\n",
            "Epoch 62/100\n",
            "34/34 [==============================] - 0s 1ms/step - loss: 5019.3540 - mae: 5019.3540\n",
            "Epoch 63/100\n",
            "34/34 [==============================] - 0s 2ms/step - loss: 4889.6865 - mae: 4889.6865\n",
            "Epoch 64/100\n",
            "34/34 [==============================] - 0s 1ms/step - loss: 4756.8560 - mae: 4756.8560\n",
            "Epoch 65/100\n",
            "34/34 [==============================] - 0s 1ms/step - loss: 4629.4370 - mae: 4629.4370\n",
            "Epoch 66/100\n",
            "34/34 [==============================] - 0s 1ms/step - loss: 4503.5991 - mae: 4503.5991\n",
            "Epoch 67/100\n",
            "34/34 [==============================] - 0s 2ms/step - loss: 4392.9922 - mae: 4392.9922\n",
            "Epoch 68/100\n",
            "34/34 [==============================] - 0s 1ms/step - loss: 4284.3862 - mae: 4284.3862\n",
            "Epoch 69/100\n",
            "34/34 [==============================] - 0s 1ms/step - loss: 4182.6182 - mae: 4182.6182\n",
            "Epoch 70/100\n",
            "34/34 [==============================] - 0s 1ms/step - loss: 4089.5720 - mae: 4089.5720\n",
            "Epoch 71/100\n",
            "34/34 [==============================] - 0s 1ms/step - loss: 4003.3901 - mae: 4003.3901\n",
            "Epoch 72/100\n",
            "34/34 [==============================] - 0s 1ms/step - loss: 3929.0093 - mae: 3929.0093\n",
            "Epoch 73/100\n",
            "34/34 [==============================] - 0s 1ms/step - loss: 3866.3110 - mae: 3866.3110\n",
            "Epoch 74/100\n",
            "34/34 [==============================] - 0s 2ms/step - loss: 3813.7144 - mae: 3813.7144\n",
            "Epoch 75/100\n",
            "34/34 [==============================] - 0s 1ms/step - loss: 3773.0317 - mae: 3773.0317\n",
            "Epoch 76/100\n",
            "34/34 [==============================] - 0s 2ms/step - loss: 3744.1995 - mae: 3744.1995\n",
            "Epoch 77/100\n",
            "34/34 [==============================] - 0s 1ms/step - loss: 3719.6870 - mae: 3719.6870\n",
            "Epoch 78/100\n",
            "34/34 [==============================] - 0s 2ms/step - loss: 3702.9109 - mae: 3702.9109\n",
            "Epoch 79/100\n",
            "34/34 [==============================] - 0s 1ms/step - loss: 3691.8792 - mae: 3691.8792\n",
            "Epoch 80/100\n",
            "34/34 [==============================] - 0s 1ms/step - loss: 3682.8350 - mae: 3682.8350\n",
            "Epoch 81/100\n",
            "34/34 [==============================] - 0s 1ms/step - loss: 3676.9763 - mae: 3676.9763\n",
            "Epoch 82/100\n",
            "34/34 [==============================] - 0s 1ms/step - loss: 3673.9492 - mae: 3673.9492\n",
            "Epoch 83/100\n",
            "34/34 [==============================] - 0s 1ms/step - loss: 3667.8452 - mae: 3667.8452\n",
            "Epoch 84/100\n",
            "34/34 [==============================] - 0s 1ms/step - loss: 3664.5757 - mae: 3664.5757\n",
            "Epoch 85/100\n",
            "34/34 [==============================] - 0s 1ms/step - loss: 3661.8562 - mae: 3661.8562\n",
            "Epoch 86/100\n",
            "34/34 [==============================] - 0s 1ms/step - loss: 3660.3049 - mae: 3660.3049\n",
            "Epoch 87/100\n",
            "34/34 [==============================] - 0s 2ms/step - loss: 3657.5134 - mae: 3657.5134\n",
            "Epoch 88/100\n",
            "34/34 [==============================] - 0s 2ms/step - loss: 3655.2200 - mae: 3655.2200\n",
            "Epoch 89/100\n",
            "34/34 [==============================] - 0s 2ms/step - loss: 3653.8831 - mae: 3653.8831\n",
            "Epoch 90/100\n",
            "34/34 [==============================] - 0s 2ms/step - loss: 3652.0195 - mae: 3652.0195\n",
            "Epoch 91/100\n",
            "34/34 [==============================] - 0s 2ms/step - loss: 3648.9990 - mae: 3648.9990\n",
            "Epoch 92/100\n",
            "34/34 [==============================] - 0s 1ms/step - loss: 3648.4463 - mae: 3648.4463\n",
            "Epoch 93/100\n",
            "34/34 [==============================] - 0s 1ms/step - loss: 3646.2297 - mae: 3646.2297\n",
            "Epoch 94/100\n",
            "34/34 [==============================] - 0s 1ms/step - loss: 3644.4377 - mae: 3644.4377\n",
            "Epoch 95/100\n",
            "34/34 [==============================] - 0s 2ms/step - loss: 3645.8772 - mae: 3645.8772\n",
            "Epoch 96/100\n",
            "34/34 [==============================] - 0s 2ms/step - loss: 3642.2573 - mae: 3642.2573\n",
            "Epoch 97/100\n",
            "34/34 [==============================] - 0s 1ms/step - loss: 3640.1184 - mae: 3640.1184\n",
            "Epoch 98/100\n",
            "34/34 [==============================] - 0s 2ms/step - loss: 3638.0649 - mae: 3638.0649\n",
            "Epoch 99/100\n",
            "34/34 [==============================] - 0s 1ms/step - loss: 3637.2051 - mae: 3637.2051\n",
            "Epoch 100/100\n",
            "34/34 [==============================] - 0s 1ms/step - loss: 3636.1707 - mae: 3636.1707\n"
          ],
          "name": "stdout"
        },
        {
          "output_type": "execute_result",
          "data": {
            "text/plain": [
              "<tensorflow.python.keras.callbacks.History at 0x7fe4ddf45710>"
            ]
          },
          "metadata": {
            "tags": []
          },
          "execution_count": 139
        }
      ]
    },
    {
      "cell_type": "code",
      "metadata": {
        "colab": {
          "base_uri": "https://localhost:8080/"
        },
        "id": "igsScCkUkf5D",
        "outputId": "0c369826-aa89-4df4-8201-8f68090947e2"
      },
      "source": [
        "model_5.evaluate(x_train_normal , y_train)"
      ],
      "execution_count": 141,
      "outputs": [
        {
          "output_type": "stream",
          "text": [
            "34/34 [==============================] - 0s 1ms/step - loss: 3632.0366 - mae: 3632.0366\n"
          ],
          "name": "stdout"
        },
        {
          "output_type": "execute_result",
          "data": {
            "text/plain": [
              "[3632.03662109375, 3632.03662109375]"
            ]
          },
          "metadata": {
            "tags": []
          },
          "execution_count": 141
        }
      ]
    },
    {
      "cell_type": "code",
      "metadata": {
        "id": "fcb3N8I1mF_9"
      },
      "source": [
        ""
      ],
      "execution_count": null,
      "outputs": []
    },
    {
      "cell_type": "code",
      "metadata": {
        "colab": {
          "base_uri": "https://localhost:8080/"
        },
        "id": "puvG2v8FlDnR",
        "outputId": "b6a714de-fd9d-485c-8f45-b28059a6318e"
      },
      "source": [
        "model_5.evaluate(x_test_normal, y_test)"
      ],
      "execution_count": 143,
      "outputs": [
        {
          "output_type": "stream",
          "text": [
            "9/9 [==============================] - 0s 2ms/step - loss: 3438.7844 - mae: 3438.7844\n"
          ],
          "name": "stdout"
        },
        {
          "output_type": "execute_result",
          "data": {
            "text/plain": [
              "[3438.784423828125, 3438.784423828125]"
            ]
          },
          "metadata": {
            "tags": []
          },
          "execution_count": 143
        }
      ]
    },
    {
      "cell_type": "code",
      "metadata": {
        "id": "N6p4xC7vlg66"
      },
      "source": [
        ""
      ],
      "execution_count": null,
      "outputs": []
    }
  ]
}